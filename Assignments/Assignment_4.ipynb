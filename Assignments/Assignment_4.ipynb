{
  "nbformat": 4,
  "nbformat_minor": 0,
  "metadata": {
    "colab": {
      "name": "Assignment_4.ipynb",
      "provenance": [],
      "collapsed_sections": []
    },
    "kernelspec": {
      "name": "python3",
      "display_name": "Python 3"
    },
    "language_info": {
      "name": "python"
    }
  },
  "cells": [
    {
      "cell_type": "code",
      "metadata": {
        "id": "_ymGDm1-JwAM"
      },
      "source": [
        "import numpy as np\n",
        "import pandas as pd \n",
        "import matplotlib.pyplot as plt\n",
        "import matplotlib\n",
        "%matplotlib inline"
      ],
      "execution_count": 1,
      "outputs": []
    },
    {
      "cell_type": "code",
      "metadata": {
        "colab": {
          "base_uri": "https://localhost:8080/",
          "height": 206
        },
        "id": "DWXiqtiCKiKq",
        "outputId": "b6e75fea-8c78-42e1-9619-247a0f0ccf0c"
      },
      "source": [
        "from sklearn.datasets import load_iris\n",
        "\n",
        "iris = load_iris()\n",
        "df = pd.DataFrame(iris.data, columns= iris.feature_names)\n",
        "df['species'] = pd.Categorical.from_codes(iris.target, iris.target_names)\n",
        "df.head()"
      ],
      "execution_count": 2,
      "outputs": [
        {
          "output_type": "execute_result",
          "data": {
            "text/html": [
              "<div>\n",
              "<style scoped>\n",
              "    .dataframe tbody tr th:only-of-type {\n",
              "        vertical-align: middle;\n",
              "    }\n",
              "\n",
              "    .dataframe tbody tr th {\n",
              "        vertical-align: top;\n",
              "    }\n",
              "\n",
              "    .dataframe thead th {\n",
              "        text-align: right;\n",
              "    }\n",
              "</style>\n",
              "<table border=\"1\" class=\"dataframe\">\n",
              "  <thead>\n",
              "    <tr style=\"text-align: right;\">\n",
              "      <th></th>\n",
              "      <th>sepal length (cm)</th>\n",
              "      <th>sepal width (cm)</th>\n",
              "      <th>petal length (cm)</th>\n",
              "      <th>petal width (cm)</th>\n",
              "      <th>species</th>\n",
              "    </tr>\n",
              "  </thead>\n",
              "  <tbody>\n",
              "    <tr>\n",
              "      <th>0</th>\n",
              "      <td>5.1</td>\n",
              "      <td>3.5</td>\n",
              "      <td>1.4</td>\n",
              "      <td>0.2</td>\n",
              "      <td>setosa</td>\n",
              "    </tr>\n",
              "    <tr>\n",
              "      <th>1</th>\n",
              "      <td>4.9</td>\n",
              "      <td>3.0</td>\n",
              "      <td>1.4</td>\n",
              "      <td>0.2</td>\n",
              "      <td>setosa</td>\n",
              "    </tr>\n",
              "    <tr>\n",
              "      <th>2</th>\n",
              "      <td>4.7</td>\n",
              "      <td>3.2</td>\n",
              "      <td>1.3</td>\n",
              "      <td>0.2</td>\n",
              "      <td>setosa</td>\n",
              "    </tr>\n",
              "    <tr>\n",
              "      <th>3</th>\n",
              "      <td>4.6</td>\n",
              "      <td>3.1</td>\n",
              "      <td>1.5</td>\n",
              "      <td>0.2</td>\n",
              "      <td>setosa</td>\n",
              "    </tr>\n",
              "    <tr>\n",
              "      <th>4</th>\n",
              "      <td>5.0</td>\n",
              "      <td>3.6</td>\n",
              "      <td>1.4</td>\n",
              "      <td>0.2</td>\n",
              "      <td>setosa</td>\n",
              "    </tr>\n",
              "  </tbody>\n",
              "</table>\n",
              "</div>"
            ],
            "text/plain": [
              "   sepal length (cm)  sepal width (cm)  ...  petal width (cm)  species\n",
              "0                5.1               3.5  ...               0.2   setosa\n",
              "1                4.9               3.0  ...               0.2   setosa\n",
              "2                4.7               3.2  ...               0.2   setosa\n",
              "3                4.6               3.1  ...               0.2   setosa\n",
              "4                5.0               3.6  ...               0.2   setosa\n",
              "\n",
              "[5 rows x 5 columns]"
            ]
          },
          "metadata": {},
          "execution_count": 2
        }
      ]
    },
    {
      "cell_type": "code",
      "metadata": {
        "colab": {
          "base_uri": "https://localhost:8080/"
        },
        "id": "93jPvyWbKmsu",
        "outputId": "91a97551-ed61-47f2-96de-dd662ed50021"
      },
      "source": [
        "# we know from the webiste link provided \"https://archive.ics.uci.edu/ml/datasets/iris\" there are no\n",
        "# missing value\n",
        "df.info()"
      ],
      "execution_count": 3,
      "outputs": [
        {
          "output_type": "stream",
          "name": "stdout",
          "text": [
            "<class 'pandas.core.frame.DataFrame'>\n",
            "RangeIndex: 150 entries, 0 to 149\n",
            "Data columns (total 5 columns):\n",
            " #   Column             Non-Null Count  Dtype   \n",
            "---  ------             --------------  -----   \n",
            " 0   sepal length (cm)  150 non-null    float64 \n",
            " 1   sepal width (cm)   150 non-null    float64 \n",
            " 2   petal length (cm)  150 non-null    float64 \n",
            " 3   petal width (cm)   150 non-null    float64 \n",
            " 4   species            150 non-null    category\n",
            "dtypes: category(1), float64(4)\n",
            "memory usage: 5.1 KB\n"
          ]
        }
      ]
    },
    {
      "cell_type": "code",
      "metadata": {
        "colab": {
          "base_uri": "https://localhost:8080/",
          "height": 300
        },
        "id": "XfAmdSUXLoiL",
        "outputId": "c0173a32-74f9-4659-ab50-58fdec99a9fc"
      },
      "source": [
        "# From the info it is confirmed none of the value are missing\n",
        "# \n",
        "df.describe()"
      ],
      "execution_count": 4,
      "outputs": [
        {
          "output_type": "execute_result",
          "data": {
            "text/html": [
              "<div>\n",
              "<style scoped>\n",
              "    .dataframe tbody tr th:only-of-type {\n",
              "        vertical-align: middle;\n",
              "    }\n",
              "\n",
              "    .dataframe tbody tr th {\n",
              "        vertical-align: top;\n",
              "    }\n",
              "\n",
              "    .dataframe thead th {\n",
              "        text-align: right;\n",
              "    }\n",
              "</style>\n",
              "<table border=\"1\" class=\"dataframe\">\n",
              "  <thead>\n",
              "    <tr style=\"text-align: right;\">\n",
              "      <th></th>\n",
              "      <th>sepal length (cm)</th>\n",
              "      <th>sepal width (cm)</th>\n",
              "      <th>petal length (cm)</th>\n",
              "      <th>petal width (cm)</th>\n",
              "    </tr>\n",
              "  </thead>\n",
              "  <tbody>\n",
              "    <tr>\n",
              "      <th>count</th>\n",
              "      <td>150.000000</td>\n",
              "      <td>150.000000</td>\n",
              "      <td>150.000000</td>\n",
              "      <td>150.000000</td>\n",
              "    </tr>\n",
              "    <tr>\n",
              "      <th>mean</th>\n",
              "      <td>5.843333</td>\n",
              "      <td>3.057333</td>\n",
              "      <td>3.758000</td>\n",
              "      <td>1.199333</td>\n",
              "    </tr>\n",
              "    <tr>\n",
              "      <th>std</th>\n",
              "      <td>0.828066</td>\n",
              "      <td>0.435866</td>\n",
              "      <td>1.765298</td>\n",
              "      <td>0.762238</td>\n",
              "    </tr>\n",
              "    <tr>\n",
              "      <th>min</th>\n",
              "      <td>4.300000</td>\n",
              "      <td>2.000000</td>\n",
              "      <td>1.000000</td>\n",
              "      <td>0.100000</td>\n",
              "    </tr>\n",
              "    <tr>\n",
              "      <th>25%</th>\n",
              "      <td>5.100000</td>\n",
              "      <td>2.800000</td>\n",
              "      <td>1.600000</td>\n",
              "      <td>0.300000</td>\n",
              "    </tr>\n",
              "    <tr>\n",
              "      <th>50%</th>\n",
              "      <td>5.800000</td>\n",
              "      <td>3.000000</td>\n",
              "      <td>4.350000</td>\n",
              "      <td>1.300000</td>\n",
              "    </tr>\n",
              "    <tr>\n",
              "      <th>75%</th>\n",
              "      <td>6.400000</td>\n",
              "      <td>3.300000</td>\n",
              "      <td>5.100000</td>\n",
              "      <td>1.800000</td>\n",
              "    </tr>\n",
              "    <tr>\n",
              "      <th>max</th>\n",
              "      <td>7.900000</td>\n",
              "      <td>4.400000</td>\n",
              "      <td>6.900000</td>\n",
              "      <td>2.500000</td>\n",
              "    </tr>\n",
              "  </tbody>\n",
              "</table>\n",
              "</div>"
            ],
            "text/plain": [
              "       sepal length (cm)  sepal width (cm)  petal length (cm)  petal width (cm)\n",
              "count         150.000000        150.000000         150.000000        150.000000\n",
              "mean            5.843333          3.057333           3.758000          1.199333\n",
              "std             0.828066          0.435866           1.765298          0.762238\n",
              "min             4.300000          2.000000           1.000000          0.100000\n",
              "25%             5.100000          2.800000           1.600000          0.300000\n",
              "50%             5.800000          3.000000           4.350000          1.300000\n",
              "75%             6.400000          3.300000           5.100000          1.800000\n",
              "max             7.900000          4.400000           6.900000          2.500000"
            ]
          },
          "metadata": {},
          "execution_count": 4
        }
      ]
    },
    {
      "cell_type": "code",
      "metadata": {
        "colab": {
          "base_uri": "https://localhost:8080/"
        },
        "id": "McTyemMdLqiz",
        "outputId": "aec994fb-ab4e-4914-e1bd-bd0d33b39ae2"
      },
      "source": [
        "df[\"species\"].value_counts()"
      ],
      "execution_count": 5,
      "outputs": [
        {
          "output_type": "execute_result",
          "data": {
            "text/plain": [
              "virginica     50\n",
              "versicolor    50\n",
              "setosa        50\n",
              "Name: species, dtype: int64"
            ]
          },
          "metadata": {},
          "execution_count": 5
        }
      ]
    },
    {
      "cell_type": "code",
      "metadata": {
        "colab": {
          "base_uri": "https://localhost:8080/",
          "height": 175
        },
        "id": "CugZPeK_PPug",
        "outputId": "9d52c799-3005-4ee1-ed54-a5d8f214da1f"
      },
      "source": [
        "#Finding the mean of sepal lenght and width and petal lenght and width of each of the species \n",
        "df.groupby('species').mean() "
      ],
      "execution_count": 6,
      "outputs": [
        {
          "output_type": "execute_result",
          "data": {
            "text/html": [
              "<div>\n",
              "<style scoped>\n",
              "    .dataframe tbody tr th:only-of-type {\n",
              "        vertical-align: middle;\n",
              "    }\n",
              "\n",
              "    .dataframe tbody tr th {\n",
              "        vertical-align: top;\n",
              "    }\n",
              "\n",
              "    .dataframe thead th {\n",
              "        text-align: right;\n",
              "    }\n",
              "</style>\n",
              "<table border=\"1\" class=\"dataframe\">\n",
              "  <thead>\n",
              "    <tr style=\"text-align: right;\">\n",
              "      <th></th>\n",
              "      <th>sepal length (cm)</th>\n",
              "      <th>sepal width (cm)</th>\n",
              "      <th>petal length (cm)</th>\n",
              "      <th>petal width (cm)</th>\n",
              "    </tr>\n",
              "    <tr>\n",
              "      <th>species</th>\n",
              "      <th></th>\n",
              "      <th></th>\n",
              "      <th></th>\n",
              "      <th></th>\n",
              "    </tr>\n",
              "  </thead>\n",
              "  <tbody>\n",
              "    <tr>\n",
              "      <th>setosa</th>\n",
              "      <td>5.006</td>\n",
              "      <td>3.428</td>\n",
              "      <td>1.462</td>\n",
              "      <td>0.246</td>\n",
              "    </tr>\n",
              "    <tr>\n",
              "      <th>versicolor</th>\n",
              "      <td>5.936</td>\n",
              "      <td>2.770</td>\n",
              "      <td>4.260</td>\n",
              "      <td>1.326</td>\n",
              "    </tr>\n",
              "    <tr>\n",
              "      <th>virginica</th>\n",
              "      <td>6.588</td>\n",
              "      <td>2.974</td>\n",
              "      <td>5.552</td>\n",
              "      <td>2.026</td>\n",
              "    </tr>\n",
              "  </tbody>\n",
              "</table>\n",
              "</div>"
            ],
            "text/plain": [
              "            sepal length (cm)  ...  petal width (cm)\n",
              "species                        ...                  \n",
              "setosa                  5.006  ...             0.246\n",
              "versicolor              5.936  ...             1.326\n",
              "virginica               6.588  ...             2.026\n",
              "\n",
              "[3 rows x 4 columns]"
            ]
          },
          "metadata": {},
          "execution_count": 6
        }
      ]
    },
    {
      "cell_type": "code",
      "metadata": {
        "colab": {
          "base_uri": "https://localhost:8080/",
          "height": 175
        },
        "id": "YNh0BuaSTCzZ",
        "outputId": "f0c977c3-fc01-4d1b-8821-7a1fc8a26035"
      },
      "source": [
        "#Finding the standard deviation of sepal lenght and width and petal lenght and width of each of the species \n",
        "df.groupby('species').std()"
      ],
      "execution_count": 7,
      "outputs": [
        {
          "output_type": "execute_result",
          "data": {
            "text/html": [
              "<div>\n",
              "<style scoped>\n",
              "    .dataframe tbody tr th:only-of-type {\n",
              "        vertical-align: middle;\n",
              "    }\n",
              "\n",
              "    .dataframe tbody tr th {\n",
              "        vertical-align: top;\n",
              "    }\n",
              "\n",
              "    .dataframe thead th {\n",
              "        text-align: right;\n",
              "    }\n",
              "</style>\n",
              "<table border=\"1\" class=\"dataframe\">\n",
              "  <thead>\n",
              "    <tr style=\"text-align: right;\">\n",
              "      <th></th>\n",
              "      <th>sepal length (cm)</th>\n",
              "      <th>sepal width (cm)</th>\n",
              "      <th>petal length (cm)</th>\n",
              "      <th>petal width (cm)</th>\n",
              "    </tr>\n",
              "    <tr>\n",
              "      <th>species</th>\n",
              "      <th></th>\n",
              "      <th></th>\n",
              "      <th></th>\n",
              "      <th></th>\n",
              "    </tr>\n",
              "  </thead>\n",
              "  <tbody>\n",
              "    <tr>\n",
              "      <th>setosa</th>\n",
              "      <td>0.352490</td>\n",
              "      <td>0.379064</td>\n",
              "      <td>0.173664</td>\n",
              "      <td>0.105386</td>\n",
              "    </tr>\n",
              "    <tr>\n",
              "      <th>versicolor</th>\n",
              "      <td>0.516171</td>\n",
              "      <td>0.313798</td>\n",
              "      <td>0.469911</td>\n",
              "      <td>0.197753</td>\n",
              "    </tr>\n",
              "    <tr>\n",
              "      <th>virginica</th>\n",
              "      <td>0.635880</td>\n",
              "      <td>0.322497</td>\n",
              "      <td>0.551895</td>\n",
              "      <td>0.274650</td>\n",
              "    </tr>\n",
              "  </tbody>\n",
              "</table>\n",
              "</div>"
            ],
            "text/plain": [
              "            sepal length (cm)  ...  petal width (cm)\n",
              "species                        ...                  \n",
              "setosa               0.352490  ...          0.105386\n",
              "versicolor           0.516171  ...          0.197753\n",
              "virginica            0.635880  ...          0.274650\n",
              "\n",
              "[3 rows x 4 columns]"
            ]
          },
          "metadata": {},
          "execution_count": 7
        }
      ]
    },
    {
      "cell_type": "code",
      "metadata": {
        "colab": {
          "base_uri": "https://localhost:8080/",
          "height": 445
        },
        "id": "nvvpRFhoUrAL",
        "outputId": "02cc0656-cabe-4f82-f85a-e7d287f6b564"
      },
      "source": [
        "#Checking how the width and length are distributed of sepal and petal for every category\n",
        "df.hist(edgecolor = \"black\")\n",
        "fig = plt.gcf()\n",
        "fig.set_size_inches(20,10)\n",
        "plt.show()"
      ],
      "execution_count": 8,
      "outputs": [
        {
          "output_type": "display_data",
          "data": {
            "image/png": "[encoded data removed]",
            "text/plain": [
              "<Figure size 1440x720 with 4 Axes>"
            ]
          },
          "metadata": {
            "needs_background": "light"
          }
        }
      ]
    },
    {
      "cell_type": "code",
      "metadata": {
        "id": "39ENPGaCclOp"
      },
      "source": [
        ""
      ],
      "execution_count": 8,
      "outputs": []
    },
    {
      "cell_type": "code",
      "metadata": {
        "colab": {
          "base_uri": "https://localhost:8080/",
          "height": 586
        },
        "id": "c21cs7VzV2i2",
        "outputId": "bb07bac8-d99d-48c5-a518-224476926a2c"
      },
      "source": [
        "fig2 = df[df.species == \"setosa\"].plot(kind = \"scatter\", x = \"sepal length (cm)\", y = \"sepal width (cm)\", color = \"red\", label = \"Setosa\")\n",
        "df[df.species == \"versicolor\"].plot(kind = \"scatter\", x = \"sepal length (cm)\", y = \"sepal width (cm)\", color = \"green\", label = \"Versicolor\", ax = fig2)\n",
        "df[df.species == \"virginica\"].plot(kind = \"scatter\", x = \"sepal length (cm)\", y = \"sepal width (cm)\", color = \"blue\", label = \"Virginica\", ax = fig2)\n",
        "fig2.set_title(\"sepal length vs width\")\n",
        "fig2 = plt.gcf()\n",
        "fig2.set_size_inches(15,10)\n",
        "plt.show()"
      ],
      "execution_count": 9,
      "outputs": [
        {
          "output_type": "display_data",
          "data": {
            "image/png": "[encoded data removed]",
            "text/plain": [
              "<Figure size 1080x720 with 1 Axes>"
            ]
          },
          "metadata": {
            "needs_background": "light"
          }
        }
      ]
    },
    {
      "cell_type": "code",
      "metadata": {
        "colab": {
          "base_uri": "https://localhost:8080/",
          "height": 586
        },
        "id": "vOSqvK-CaLYj",
        "outputId": "d54c514b-0bae-465b-fb03-b2c06a15e4c6"
      },
      "source": [
        "fig3 = df[df.species == \"setosa\"].plot(kind = \"scatter\", x = \"petal length (cm)\", y = \"petal width (cm)\", color = \"red\", label = \"Setosa\")\n",
        "df[df.species == \"versicolor\"].plot(kind = \"scatter\", x = \"petal length (cm)\", y = \"petal width (cm)\", color = \"green\", label = \"Versicolor\", ax = fig3)\n",
        "df[df.species == \"virginica\"].plot(kind = \"scatter\", x = \"petal length (cm)\", y = \"petal width (cm)\", color = \"blue\", label = \"Virginica\", ax = fig3)\n",
        "fig3.set_title(\"petal length vs width\")\n",
        "fig3 = plt.gcf()\n",
        "fig3.set_size_inches(15,10)\n",
        "plt.show()"
      ],
      "execution_count": 10,
      "outputs": [
        {
          "output_type": "display_data",
          "data": {
            "image/png": "[encoded data removed]",
            "text/plain": [
              "<Figure size 1080x720 with 1 Axes>"
            ]
          },
          "metadata": {
            "needs_background": "light"
          }
        }
      ]
    },
    {
      "cell_type": "code",
      "metadata": {
        "colab": {
          "base_uri": "https://localhost:8080/"
        },
        "id": "5DfjilEdfGqb",
        "outputId": "e008ee79-38b3-4109-d981-99a6cda18da7"
      },
      "source": [
        "df.shape"
      ],
      "execution_count": 11,
      "outputs": [
        {
          "output_type": "execute_result",
          "data": {
            "text/plain": [
              "(150, 5)"
            ]
          },
          "metadata": {},
          "execution_count": 11
        }
      ]
    },
    {
      "cell_type": "code",
      "metadata": {
        "id": "K1rXSwRG4yIy"
      },
      "source": [
        "from sklearn.preprocessing import StandardScaler\n",
        "scaling = StandardScaler()\n",
        "features = [\"sepal length (cm)\", \"sepal width (cm)\", \"petal length (cm)\", \"petal width (cm)\"] #Needed features in plot\n",
        "scaled_features = scaling.fit_transform(df[features]) #Scaling \n",
        "df_feat = pd.DataFrame(scaled_features, columns=df.columns[:-1]) #creating new matrix with scalling\n",
        "df_feat.head()\n"
      ],
      "execution_count": 13,
      "outputs": []
    },
    {
      "cell_type": "code",
      "metadata": {
        "id": "emXQsfdm6ySS"
      },
      "source": [
        "target_feature = df[\"species\"].astype('category')\n",
        "target_feature.dtypes\n",
        "target_feature = target_feature.cat.codes\n"
      ],
      "execution_count": 14,
      "outputs": []
    },
    {
      "cell_type": "code",
      "metadata": {
        "id": "x_eCX0m8db3X"
      },
      "source": [
        "from sklearn.model_selection import train_test_split\n",
        "X = df_feat\n",
        "y = target_feature\n",
        "\n",
        "train_X, test_X, train_y, test_y  = train_test_split(X,y, test_size = 0.3) # Splitting the data in 70 and 30 ratio\n",
        "#Divided data set in two pieces -> Train = 70% and test = 30%"
      ],
      "execution_count": 15,
      "outputs": []
    },
    {
      "cell_type": "code",
      "metadata": {
        "id": "RAQSLXLvh4-n"
      },
      "source": [
        "from sklearn.svm import SVC # for Support vector machine algo\n",
        "from sklearn.metrics import mean_squared_error\n",
        "from math import sqrt\n",
        "from sklearn.neighbors import KNeighborsClassifier # for K nearest neighbours\n",
        "from sklearn.model_selection import GridSearchCV\n",
        "from sklearn.model_selection import RandomizedSearchCV \n",
        "from sklearn.model_selection import cross_val_score\n",
        "from sklearn import metrics # for checking model accuracy\n"
      ],
      "execution_count": 16,
      "outputs": []
    },
    {
      "cell_type": "code",
      "metadata": {
        "colab": {
          "base_uri": "https://localhost:8080/"
        },
        "id": "zbg_vp-WwVoy",
        "outputId": "099d4233-c610-4138-8de5-28e8ed3785f6"
      },
      "source": [
        "#SVM\n",
        "#Before hyperparameter\n",
        "svmmodel = SVC(kernel = 'linear', C = 10)\n",
        "svmmodel.fit(train_X,train_y)\n",
        "prediction = svmmodel.predict(test_X)\n",
        "print(\"accuracy -> \", metrics.accuracy_score(prediction, test_y))"
      ],
      "execution_count": 18,
      "outputs": [
        {
          "output_type": "stream",
          "name": "stdout",
          "text": [
            "accuracy ->  0.9555555555555556\n"
          ]
        }
      ]
    },
    {
      "cell_type": "code",
      "metadata": {
        "colab": {
          "base_uri": "https://localhost:8080/"
        },
        "id": "EUgQYl0U0TAg",
        "outputId": "e0a514d5-227b-43dc-be3f-c8a8bceab4ff"
      },
      "source": [
        "mse = mean_squared_error(test_y, prediction)\n",
        "print(\"Mean squared error -> \", mse)\n",
        "rmse = sqrt(mse)\n",
        "print(\"Root mean square error -> \", rmse)"
      ],
      "execution_count": 19,
      "outputs": [
        {
          "output_type": "stream",
          "name": "stdout",
          "text": [
            "Mean squared error ->  0.044444444444444446\n",
            "Root mean square error ->  0.21081851067789195\n"
          ]
        }
      ]
    },
    {
      "cell_type": "code",
      "metadata": {
        "colab": {
          "base_uri": "https://localhost:8080/"
        },
        "id": "wY6egeg33ATj",
        "outputId": "82cd2bc9-5cbc-4795-b341-3c12506dcc20"
      },
      "source": [
        "svmmodel = SVC(kernel = 'rbf')\n",
        "svmmodel.fit(train_X,train_y)\n",
        "prediction = svmmodel.predict(test_X)\n",
        "print(\"accuracy -> \", metrics.accuracy_score(prediction, test_y))"
      ],
      "execution_count": 21,
      "outputs": [
        {
          "output_type": "stream",
          "name": "stdout",
          "text": [
            "accuracy ->  0.9777777777777777\n"
          ]
        }
      ]
    },
    {
      "cell_type": "code",
      "metadata": {
        "colab": {
          "base_uri": "https://localhost:8080/"
        },
        "id": "85NtiWIg3KWy",
        "outputId": "5e3a77a4-75e0-4aea-8268-32b291bfc62d"
      },
      "source": [
        "#After hyperparameter\n",
        "C = [0.1,1,10,100]\n",
        "gamma = [1, 0.1,0.01,0.001]\n",
        "param_grid = {\"C\":C,\"gamma\":gamma,\"kernel\":[\"linear\",\"rbf\"]}\n",
        "grid = GridSearchCV(SVC(), param_grid, refit = True, verbose = 3)\n",
        "grid.fit(test_X,test_y);"
      ],
      "execution_count": 22,
      "outputs": [
        {
          "output_type": "stream",
          "name": "stdout",
          "text": [
            "Fitting 5 folds for each of 32 candidates, totalling 160 fits\n",
            "[CV] C=0.1, gamma=1, kernel=linear ...................................\n",
            "[CV] ....... C=0.1, gamma=1, kernel=linear, score=0.778, total=   0.0s\n",
            "[CV] C=0.1, gamma=1, kernel=linear ...................................\n",
            "[CV] ....... C=0.1, gamma=1, kernel=linear, score=1.000, total=   0.0s\n",
            "[CV] C=0.1, gamma=1, kernel=linear ...................................\n",
            "[CV] ....... C=0.1, gamma=1, kernel=linear, score=0.889, total=   0.0s\n",
            "[CV] C=0.1, gamma=1, kernel=linear ...................................\n",
            "[CV] ....... C=0.1, gamma=1, kernel=linear, score=0.889, total=   0.0s\n",
            "[CV] C=0.1, gamma=1, kernel=linear ...................................\n",
            "[CV] ....... C=0.1, gamma=1, kernel=linear, score=1.000, total=   0.0s\n",
            "[CV] C=0.1, gamma=1, kernel=rbf ......................................\n",
            "[CV] .......... C=0.1, gamma=1, kernel=rbf, score=0.444, total=   0.0s\n",
            "[CV] C=0.1, gamma=1, kernel=rbf ......................................\n",
            "[CV] .......... C=0.1, gamma=1, kernel=rbf, score=0.556, total=   0.0s\n",
            "[CV] C=0.1, gamma=1, kernel=rbf ......................................\n",
            "[CV] .......... C=0.1, gamma=1, kernel=rbf, score=0.444, total=   0.0s\n",
            "[CV] C=0.1, gamma=1, kernel=rbf ......................................\n",
            "[CV] .......... C=0.1, gamma=1, kernel=rbf, score=0.444, total=   0.0s\n",
            "[CV] C=0.1, gamma=1, kernel=rbf ......................................\n",
            "[CV] .......... C=0.1, gamma=1, kernel=rbf, score=0.778, total=   0.0s\n",
            "[CV] C=0.1, gamma=0.1, kernel=linear .................................\n",
            "[CV] ..... C=0.1, gamma=0.1, kernel=linear, score=0.778, total=   0.0s\n",
            "[CV] C=0.1, gamma=0.1, kernel=linear .................................\n",
            "[CV] ..... C=0.1, gamma=0.1, kernel=linear, score=1.000, total=   0.0s\n",
            "[CV] C=0.1, gamma=0.1, kernel=linear .................................\n",
            "[CV] ..... C=0.1, gamma=0.1, kernel=linear, score=0.889, total=   0.0s\n",
            "[CV] C=0.1, gamma=0.1, kernel=linear .................................\n",
            "[CV] ..... C=0.1, gamma=0.1, kernel=linear, score=0.889, total=   0.0s\n",
            "[CV] C=0.1, gamma=0.1, kernel=linear .................................\n",
            "[CV] ..... C=0.1, gamma=0.1, kernel=linear, score=1.000, total=   0.0s\n",
            "[CV] C=0.1, gamma=0.1, kernel=rbf ....................................\n",
            "[CV] ........ C=0.1, gamma=0.1, kernel=rbf, score=0.444, total=   0.0s\n",
            "[CV] C=0.1, gamma=0.1, kernel=rbf ....................................\n",
            "[CV] ........ C=0.1, gamma=0.1, kernel=rbf, score=0.556, total=   0.0s\n",
            "[CV] C=0.1, gamma=0.1, kernel=rbf ....................................\n",
            "[CV] ........ C=0.1, gamma=0.1, kernel=rbf, score=0.667, total=   0.0s\n",
            "[CV] C=0.1, gamma=0.1, kernel=rbf ....................................\n",
            "[CV] ........ C=0.1, gamma=0.1, kernel=rbf, score=0.444, total=   0.0s\n",
            "[CV] C=0.1, gamma=0.1, kernel=rbf ....................................\n",
            "[CV] ........ C=0.1, gamma=0.1, kernel=rbf, score=0.778, total=   0.0s\n",
            "[CV] C=0.1, gamma=0.01, kernel=linear ................................\n",
            "[CV] .... C=0.1, gamma=0.01, kernel=linear, score=0.778, total=   0.0s\n",
            "[CV] C=0.1, gamma=0.01, kernel=linear ................................\n",
            "[CV] .... C=0.1, gamma=0.01, kernel=linear, score=1.000, total=   0.0s\n",
            "[CV] C=0.1, gamma=0.01, kernel=linear ................................\n",
            "[CV] .... C=0.1, gamma=0.01, kernel=linear, score=0.889, total=   0.0s\n",
            "[CV] C=0.1, gamma=0.01, kernel=linear ................................\n",
            "[CV] .... C=0.1, gamma=0.01, kernel=linear, score=0.889, total=   0.0s\n",
            "[CV] C=0.1, gamma=0.01, kernel=linear ................................\n",
            "[CV] .... C=0.1, gamma=0.01, kernel=linear, score=1.000, total=   0.0s\n",
            "[CV] C=0.1, gamma=0.01, kernel=rbf ...................................\n",
            "[CV] ....... C=0.1, gamma=0.01, kernel=rbf, score=0.444, total=   0.0s\n",
            "[CV] C=0.1, gamma=0.01, kernel=rbf ...................................\n",
            "[CV] ....... C=0.1, gamma=0.01, kernel=rbf, score=0.444, total=   0.0s\n",
            "[CV] C=0.1, gamma=0.01, kernel=rbf ...................................\n",
            "[CV] ....... C=0.1, gamma=0.01, kernel=rbf, score=0.444, total=   0.0s\n",
            "[CV] C=0.1, gamma=0.01, kernel=rbf ...................................\n",
            "[CV] ....... C=0.1, gamma=0.01, kernel=rbf, score=0.444, total=   0.0s\n",
            "[CV] C=0.1, gamma=0.01, kernel=rbf ...................................\n",
            "[CV] ....... C=0.1, gamma=0.01, kernel=rbf, score=0.556, total=   0.0s\n",
            "[CV] C=0.1, gamma=0.001, kernel=linear ...............................\n",
            "[CV] ... C=0.1, gamma=0.001, kernel=linear, score=0.778, total=   0.0s\n",
            "[CV] C=0.1, gamma=0.001, kernel=linear ...............................\n",
            "[CV] ... C=0.1, gamma=0.001, kernel=linear, score=1.000, total=   0.0s\n",
            "[CV] C=0.1, gamma=0.001, kernel=linear ...............................\n",
            "[CV] ... C=0.1, gamma=0.001, kernel=linear, score=0.889, total=   0.0s\n",
            "[CV] C=0.1, gamma=0.001, kernel=linear ...............................\n",
            "[CV] ... C=0.1, gamma=0.001, kernel=linear, score=0.889, total=   0.0s\n",
            "[CV] C=0.1, gamma=0.001, kernel=linear ...............................\n",
            "[CV] ... C=0.1, gamma=0.001, kernel=linear, score=1.000, total=   0.0s\n",
            "[CV] C=0.1, gamma=0.001, kernel=rbf ..................................\n",
            "[CV] ...... C=0.1, gamma=0.001, kernel=rbf, score=0.444, total=   0.0s\n",
            "[CV] C=0.1, gamma=0.001, kernel=rbf ..................................\n",
            "[CV] ...... C=0.1, gamma=0.001, kernel=rbf, score=0.444, total=   0.0s\n",
            "[CV] C=0.1, gamma=0.001, kernel=rbf ..................................\n",
            "[CV] ...... C=0.1, gamma=0.001, kernel=rbf, score=0.444, total=   0.0s\n",
            "[CV] C=0.1, gamma=0.001, kernel=rbf ..................................\n",
            "[CV] ...... C=0.1, gamma=0.001, kernel=rbf, score=0.444, total=   0.0s\n",
            "[CV] C=0.1, gamma=0.001, kernel=rbf ..................................\n",
            "[CV] ...... C=0.1, gamma=0.001, kernel=rbf, score=0.556, total=   0.0s\n",
            "[CV] C=1, gamma=1, kernel=linear .....................................\n",
            "[CV] ......... C=1, gamma=1, kernel=linear, score=0.889, total=   0.0s\n",
            "[CV] C=1, gamma=1, kernel=linear .....................................\n",
            "[CV] ......... C=1, gamma=1, kernel=linear, score=1.000, total=   0.0s\n",
            "[CV] C=1, gamma=1, kernel=linear .....................................\n",
            "[CV] ......... C=1, gamma=1, kernel=linear, score=0.889, total=   0.0s\n",
            "[CV] C=1, gamma=1, kernel=linear .....................................\n",
            "[CV] ......... C=1, gamma=1, kernel=linear, score=1.000, total=   0.0s\n",
            "[CV] C=1, gamma=1, kernel=linear .....................................\n",
            "[CV] ......... C=1, gamma=1, kernel=linear, score=1.000, total=   0.0s\n",
            "[CV] C=1, gamma=1, kernel=rbf ........................................\n",
            "[CV] ............ C=1, gamma=1, kernel=rbf, score=0.889, total=   0.0s\n",
            "[CV] C=1, gamma=1, kernel=rbf ........................................\n",
            "[CV] ............ C=1, gamma=1, kernel=rbf, score=1.000, total=   0.0s\n",
            "[CV] C=1, gamma=1, kernel=rbf ........................................\n"
          ]
        },
        {
          "output_type": "stream",
          "name": "stderr",
          "text": [
            "[Parallel(n_jobs=1)]: Using backend SequentialBackend with 1 concurrent workers.\n",
            "[Parallel(n_jobs=1)]: Done   1 out of   1 | elapsed:    0.0s remaining:    0.0s\n",
            "[Parallel(n_jobs=1)]: Done   2 out of   2 | elapsed:    0.0s remaining:    0.0s\n"
          ]
        },
        {
          "output_type": "stream",
          "name": "stdout",
          "text": [
            "[CV] ............ C=1, gamma=1, kernel=rbf, score=1.000, total=   0.0s\n",
            "[CV] C=1, gamma=1, kernel=rbf ........................................\n",
            "[CV] ............ C=1, gamma=1, kernel=rbf, score=1.000, total=   0.0s\n",
            "[CV] C=1, gamma=1, kernel=rbf ........................................\n",
            "[CV] ............ C=1, gamma=1, kernel=rbf, score=1.000, total=   0.0s\n",
            "[CV] C=1, gamma=0.1, kernel=linear ...................................\n",
            "[CV] ....... C=1, gamma=0.1, kernel=linear, score=0.889, total=   0.0s\n",
            "[CV] C=1, gamma=0.1, kernel=linear ...................................\n",
            "[CV] ....... C=1, gamma=0.1, kernel=linear, score=1.000, total=   0.0s\n",
            "[CV] C=1, gamma=0.1, kernel=linear ...................................\n",
            "[CV] ....... C=1, gamma=0.1, kernel=linear, score=0.889, total=   0.0s\n",
            "[CV] C=1, gamma=0.1, kernel=linear ...................................\n",
            "[CV] ....... C=1, gamma=0.1, kernel=linear, score=1.000, total=   0.0s\n",
            "[CV] C=1, gamma=0.1, kernel=linear ...................................\n",
            "[CV] ....... C=1, gamma=0.1, kernel=linear, score=1.000, total=   0.0s\n",
            "[CV] C=1, gamma=0.1, kernel=rbf ......................................\n",
            "[CV] .......... C=1, gamma=0.1, kernel=rbf, score=0.778, total=   0.0s\n",
            "[CV] C=1, gamma=0.1, kernel=rbf ......................................\n",
            "[CV] .......... C=1, gamma=0.1, kernel=rbf, score=1.000, total=   0.0s\n",
            "[CV] C=1, gamma=0.1, kernel=rbf ......................................\n",
            "[CV] .......... C=1, gamma=0.1, kernel=rbf, score=0.889, total=   0.0s\n",
            "[CV] C=1, gamma=0.1, kernel=rbf ......................................\n",
            "[CV] .......... C=1, gamma=0.1, kernel=rbf, score=0.889, total=   0.0s\n",
            "[CV] C=1, gamma=0.1, kernel=rbf ......................................\n",
            "[CV] .......... C=1, gamma=0.1, kernel=rbf, score=1.000, total=   0.0s\n",
            "[CV] C=1, gamma=0.01, kernel=linear ..................................\n",
            "[CV] ...... C=1, gamma=0.01, kernel=linear, score=0.889, total=   0.0s\n",
            "[CV] C=1, gamma=0.01, kernel=linear ..................................\n",
            "[CV] ...... C=1, gamma=0.01, kernel=linear, score=1.000, total=   0.0s\n",
            "[CV] C=1, gamma=0.01, kernel=linear ..................................\n",
            "[CV] ...... C=1, gamma=0.01, kernel=linear, score=0.889, total=   0.0s\n",
            "[CV] C=1, gamma=0.01, kernel=linear ..................................\n",
            "[CV] ...... C=1, gamma=0.01, kernel=linear, score=1.000, total=   0.0s\n",
            "[CV] C=1, gamma=0.01, kernel=linear ..................................\n",
            "[CV] ...... C=1, gamma=0.01, kernel=linear, score=1.000, total=   0.0s\n",
            "[CV] C=1, gamma=0.01, kernel=rbf .....................................\n",
            "[CV] ......... C=1, gamma=0.01, kernel=rbf, score=0.778, total=   0.0s\n",
            "[CV] C=1, gamma=0.01, kernel=rbf .....................................\n",
            "[CV] ......... C=1, gamma=0.01, kernel=rbf, score=0.778, total=   0.0s\n",
            "[CV] C=1, gamma=0.01, kernel=rbf .....................................\n",
            "[CV] ......... C=1, gamma=0.01, kernel=rbf, score=0.778, total=   0.0s\n",
            "[CV] C=1, gamma=0.01, kernel=rbf .....................................\n",
            "[CV] ......... C=1, gamma=0.01, kernel=rbf, score=0.778, total=   0.0s\n",
            "[CV] C=1, gamma=0.01, kernel=rbf .....................................\n",
            "[CV] ......... C=1, gamma=0.01, kernel=rbf, score=0.778, total=   0.0s\n",
            "[CV] C=1, gamma=0.001, kernel=linear .................................\n",
            "[CV] ..... C=1, gamma=0.001, kernel=linear, score=0.889, total=   0.0s\n",
            "[CV] C=1, gamma=0.001, kernel=linear .................................\n",
            "[CV] ..... C=1, gamma=0.001, kernel=linear, score=1.000, total=   0.0s\n",
            "[CV] C=1, gamma=0.001, kernel=linear .................................\n",
            "[CV] ..... C=1, gamma=0.001, kernel=linear, score=0.889, total=   0.0s\n",
            "[CV] C=1, gamma=0.001, kernel=linear .................................\n",
            "[CV] ..... C=1, gamma=0.001, kernel=linear, score=1.000, total=   0.0s\n",
            "[CV] C=1, gamma=0.001, kernel=linear .................................\n",
            "[CV] ..... C=1, gamma=0.001, kernel=linear, score=1.000, total=   0.0s\n",
            "[CV] C=1, gamma=0.001, kernel=rbf ....................................\n",
            "[CV] ........ C=1, gamma=0.001, kernel=rbf, score=0.444, total=   0.0s\n",
            "[CV] C=1, gamma=0.001, kernel=rbf ....................................\n",
            "[CV] ........ C=1, gamma=0.001, kernel=rbf, score=0.444, total=   0.0s\n",
            "[CV] C=1, gamma=0.001, kernel=rbf ....................................\n",
            "[CV] ........ C=1, gamma=0.001, kernel=rbf, score=0.444, total=   0.0s\n",
            "[CV] C=1, gamma=0.001, kernel=rbf ....................................\n",
            "[CV] ........ C=1, gamma=0.001, kernel=rbf, score=0.444, total=   0.0s\n",
            "[CV] C=1, gamma=0.001, kernel=rbf ....................................\n",
            "[CV] ........ C=1, gamma=0.001, kernel=rbf, score=0.556, total=   0.0s\n",
            "[CV] C=10, gamma=1, kernel=linear ....................................\n",
            "[CV] ........ C=10, gamma=1, kernel=linear, score=1.000, total=   0.0s\n",
            "[CV] C=10, gamma=1, kernel=linear ....................................\n",
            "[CV] ........ C=10, gamma=1, kernel=linear, score=1.000, total=   0.0s\n",
            "[CV] C=10, gamma=1, kernel=linear ....................................\n",
            "[CV] ........ C=10, gamma=1, kernel=linear, score=0.889, total=   0.0s\n",
            "[CV] C=10, gamma=1, kernel=linear ....................................\n",
            "[CV] ........ C=10, gamma=1, kernel=linear, score=1.000, total=   0.0s\n",
            "[CV] C=10, gamma=1, kernel=linear ....................................\n",
            "[CV] ........ C=10, gamma=1, kernel=linear, score=1.000, total=   0.0s\n",
            "[CV] C=10, gamma=1, kernel=rbf .......................................\n",
            "[CV] ........... C=10, gamma=1, kernel=rbf, score=1.000, total=   0.0s\n",
            "[CV] C=10, gamma=1, kernel=rbf .......................................\n",
            "[CV] ........... C=10, gamma=1, kernel=rbf, score=1.000, total=   0.0s\n",
            "[CV] C=10, gamma=1, kernel=rbf .......................................\n",
            "[CV] ........... C=10, gamma=1, kernel=rbf, score=1.000, total=   0.0s\n",
            "[CV] C=10, gamma=1, kernel=rbf .......................................\n",
            "[CV] ........... C=10, gamma=1, kernel=rbf, score=1.000, total=   0.0s\n",
            "[CV] C=10, gamma=1, kernel=rbf .......................................\n",
            "[CV] ........... C=10, gamma=1, kernel=rbf, score=1.000, total=   0.0s\n",
            "[CV] C=10, gamma=0.1, kernel=linear ..................................\n",
            "[CV] ...... C=10, gamma=0.1, kernel=linear, score=1.000, total=   0.0s\n",
            "[CV] C=10, gamma=0.1, kernel=linear ..................................\n",
            "[CV] ...... C=10, gamma=0.1, kernel=linear, score=1.000, total=   0.0s\n",
            "[CV] C=10, gamma=0.1, kernel=linear ..................................\n",
            "[CV] ...... C=10, gamma=0.1, kernel=linear, score=0.889, total=   0.0s\n",
            "[CV] C=10, gamma=0.1, kernel=linear ..................................\n",
            "[CV] ...... C=10, gamma=0.1, kernel=linear, score=1.000, total=   0.0s\n",
            "[CV] C=10, gamma=0.1, kernel=linear ..................................\n",
            "[CV] ...... C=10, gamma=0.1, kernel=linear, score=1.000, total=   0.0s\n",
            "[CV] C=10, gamma=0.1, kernel=rbf .....................................\n",
            "[CV] ......... C=10, gamma=0.1, kernel=rbf, score=1.000, total=   0.0s\n",
            "[CV] C=10, gamma=0.1, kernel=rbf .....................................\n",
            "[CV] ......... C=10, gamma=0.1, kernel=rbf, score=1.000, total=   0.0s\n",
            "[CV] C=10, gamma=0.1, kernel=rbf .....................................\n",
            "[CV] ......... C=10, gamma=0.1, kernel=rbf, score=0.889, total=   0.0s\n",
            "[CV] C=10, gamma=0.1, kernel=rbf .....................................\n",
            "[CV] ......... C=10, gamma=0.1, kernel=rbf, score=1.000, total=   0.0s\n",
            "[CV] C=10, gamma=0.1, kernel=rbf .....................................\n",
            "[CV] ......... C=10, gamma=0.1, kernel=rbf, score=1.000, total=   0.0s\n",
            "[CV] C=10, gamma=0.01, kernel=linear .................................\n",
            "[CV] ..... C=10, gamma=0.01, kernel=linear, score=1.000, total=   0.0s\n",
            "[CV] C=10, gamma=0.01, kernel=linear .................................\n",
            "[CV] ..... C=10, gamma=0.01, kernel=linear, score=1.000, total=   0.0s\n",
            "[CV] C=10, gamma=0.01, kernel=linear .................................\n",
            "[CV] ..... C=10, gamma=0.01, kernel=linear, score=0.889, total=   0.0s\n",
            "[CV] C=10, gamma=0.01, kernel=linear .................................\n",
            "[CV] ..... C=10, gamma=0.01, kernel=linear, score=1.000, total=   0.0s\n",
            "[CV] C=10, gamma=0.01, kernel=linear .................................\n",
            "[CV] ..... C=10, gamma=0.01, kernel=linear, score=1.000, total=   0.0s\n",
            "[CV] C=10, gamma=0.01, kernel=rbf ....................................\n",
            "[CV] ........ C=10, gamma=0.01, kernel=rbf, score=0.778, total=   0.0s\n",
            "[CV] C=10, gamma=0.01, kernel=rbf ....................................\n",
            "[CV] ........ C=10, gamma=0.01, kernel=rbf, score=1.000, total=   0.0s\n",
            "[CV] C=10, gamma=0.01, kernel=rbf ....................................\n",
            "[CV] ........ C=10, gamma=0.01, kernel=rbf, score=0.889, total=   0.0s\n",
            "[CV] C=10, gamma=0.01, kernel=rbf ....................................\n",
            "[CV] ........ C=10, gamma=0.01, kernel=rbf, score=0.889, total=   0.0s\n",
            "[CV] C=10, gamma=0.01, kernel=rbf ....................................\n",
            "[CV] ........ C=10, gamma=0.01, kernel=rbf, score=1.000, total=   0.0s\n",
            "[CV] C=10, gamma=0.001, kernel=linear ................................\n",
            "[CV] .... C=10, gamma=0.001, kernel=linear, score=1.000, total=   0.0s\n",
            "[CV] C=10, gamma=0.001, kernel=linear ................................\n",
            "[CV] .... C=10, gamma=0.001, kernel=linear, score=1.000, total=   0.0s\n",
            "[CV] C=10, gamma=0.001, kernel=linear ................................\n",
            "[CV] .... C=10, gamma=0.001, kernel=linear, score=0.889, total=   0.0s\n",
            "[CV] C=10, gamma=0.001, kernel=linear ................................\n",
            "[CV] .... C=10, gamma=0.001, kernel=linear, score=1.000, total=   0.0s\n",
            "[CV] C=10, gamma=0.001, kernel=linear ................................\n",
            "[CV] .... C=10, gamma=0.001, kernel=linear, score=1.000, total=   0.0s\n",
            "[CV] C=10, gamma=0.001, kernel=rbf ...................................\n",
            "[CV] ....... C=10, gamma=0.001, kernel=rbf, score=0.778, total=   0.0s\n",
            "[CV] C=10, gamma=0.001, kernel=rbf ...................................\n",
            "[CV] ....... C=10, gamma=0.001, kernel=rbf, score=0.778, total=   0.0s\n",
            "[CV] C=10, gamma=0.001, kernel=rbf ...................................\n",
            "[CV] ....... C=10, gamma=0.001, kernel=rbf, score=0.778, total=   0.0s\n",
            "[CV] C=10, gamma=0.001, kernel=rbf ...................................\n",
            "[CV] ....... C=10, gamma=0.001, kernel=rbf, score=0.778, total=   0.0s\n",
            "[CV] C=10, gamma=0.001, kernel=rbf ...................................\n",
            "[CV] ....... C=10, gamma=0.001, kernel=rbf, score=0.778, total=   0.0s\n",
            "[CV] C=100, gamma=1, kernel=linear ...................................\n",
            "[CV] ....... C=100, gamma=1, kernel=linear, score=1.000, total=   0.0s\n",
            "[CV] C=100, gamma=1, kernel=linear ...................................\n",
            "[CV] ....... C=100, gamma=1, kernel=linear, score=1.000, total=   0.0s\n",
            "[CV] C=100, gamma=1, kernel=linear ...................................\n",
            "[CV] ....... C=100, gamma=1, kernel=linear, score=0.889, total=   0.0s\n",
            "[CV] C=100, gamma=1, kernel=linear ...................................\n",
            "[CV] ....... C=100, gamma=1, kernel=linear, score=1.000, total=   0.0s\n",
            "[CV] C=100, gamma=1, kernel=linear ...................................\n",
            "[CV] ....... C=100, gamma=1, kernel=linear, score=1.000, total=   0.0s\n",
            "[CV] C=100, gamma=1, kernel=rbf ......................................\n",
            "[CV] .......... C=100, gamma=1, kernel=rbf, score=1.000, total=   0.0s\n",
            "[CV] C=100, gamma=1, kernel=rbf ......................................\n",
            "[CV] .......... C=100, gamma=1, kernel=rbf, score=1.000, total=   0.0s\n",
            "[CV] C=100, gamma=1, kernel=rbf ......................................\n",
            "[CV] .......... C=100, gamma=1, kernel=rbf, score=1.000, total=   0.0s\n",
            "[CV] C=100, gamma=1, kernel=rbf ......................................\n",
            "[CV] .......... C=100, gamma=1, kernel=rbf, score=1.000, total=   0.0s\n",
            "[CV] C=100, gamma=1, kernel=rbf ......................................\n",
            "[CV] .......... C=100, gamma=1, kernel=rbf, score=1.000, total=   0.0s\n",
            "[CV] C=100, gamma=0.1, kernel=linear .................................\n",
            "[CV] ..... C=100, gamma=0.1, kernel=linear, score=1.000, total=   0.0s\n",
            "[CV] C=100, gamma=0.1, kernel=linear .................................\n",
            "[CV] ..... C=100, gamma=0.1, kernel=linear, score=1.000, total=   0.0s\n",
            "[CV] C=100, gamma=0.1, kernel=linear .................................\n",
            "[CV] ..... C=100, gamma=0.1, kernel=linear, score=0.889, total=   0.0s\n",
            "[CV] C=100, gamma=0.1, kernel=linear .................................\n",
            "[CV] ..... C=100, gamma=0.1, kernel=linear, score=1.000, total=   0.0s\n",
            "[CV] C=100, gamma=0.1, kernel=linear .................................\n",
            "[CV] ..... C=100, gamma=0.1, kernel=linear, score=1.000, total=   0.0s\n",
            "[CV] C=100, gamma=0.1, kernel=rbf ....................................\n",
            "[CV] ........ C=100, gamma=0.1, kernel=rbf, score=1.000, total=   0.0s\n",
            "[CV] C=100, gamma=0.1, kernel=rbf ....................................\n",
            "[CV] ........ C=100, gamma=0.1, kernel=rbf, score=1.000, total=   0.0s\n",
            "[CV] C=100, gamma=0.1, kernel=rbf ....................................\n",
            "[CV] ........ C=100, gamma=0.1, kernel=rbf, score=0.889, total=   0.0s\n",
            "[CV] C=100, gamma=0.1, kernel=rbf ....................................\n",
            "[CV] ........ C=100, gamma=0.1, kernel=rbf, score=1.000, total=   0.0s\n",
            "[CV] C=100, gamma=0.1, kernel=rbf ....................................\n",
            "[CV] ........ C=100, gamma=0.1, kernel=rbf, score=1.000, total=   0.0s\n",
            "[CV] C=100, gamma=0.01, kernel=linear ................................\n",
            "[CV] .... C=100, gamma=0.01, kernel=linear, score=1.000, total=   0.0s\n",
            "[CV] C=100, gamma=0.01, kernel=linear ................................\n",
            "[CV] .... C=100, gamma=0.01, kernel=linear, score=1.000, total=   0.0s\n",
            "[CV] C=100, gamma=0.01, kernel=linear ................................\n",
            "[CV] .... C=100, gamma=0.01, kernel=linear, score=0.889, total=   0.0s\n",
            "[CV] C=100, gamma=0.01, kernel=linear ................................\n",
            "[CV] .... C=100, gamma=0.01, kernel=linear, score=1.000, total=   0.0s\n",
            "[CV] C=100, gamma=0.01, kernel=linear ................................\n",
            "[CV] .... C=100, gamma=0.01, kernel=linear, score=1.000, total=   0.0s\n",
            "[CV] C=100, gamma=0.01, kernel=rbf ...................................\n",
            "[CV] ....... C=100, gamma=0.01, kernel=rbf, score=1.000, total=   0.0s\n",
            "[CV] C=100, gamma=0.01, kernel=rbf ...................................\n",
            "[CV] ....... C=100, gamma=0.01, kernel=rbf, score=1.000, total=   0.0s\n",
            "[CV] C=100, gamma=0.01, kernel=rbf ...................................\n",
            "[CV] ....... C=100, gamma=0.01, kernel=rbf, score=0.889, total=   0.0s\n",
            "[CV] C=100, gamma=0.01, kernel=rbf ...................................\n",
            "[CV] ....... C=100, gamma=0.01, kernel=rbf, score=1.000, total=   0.0s\n",
            "[CV] C=100, gamma=0.01, kernel=rbf ...................................\n",
            "[CV] ....... C=100, gamma=0.01, kernel=rbf, score=1.000, total=   0.0s\n",
            "[CV] C=100, gamma=0.001, kernel=linear ...............................\n",
            "[CV] ... C=100, gamma=0.001, kernel=linear, score=1.000, total=   0.0s\n",
            "[CV] C=100, gamma=0.001, kernel=linear ...............................\n",
            "[CV] ... C=100, gamma=0.001, kernel=linear, score=1.000, total=   0.0s\n",
            "[CV] C=100, gamma=0.001, kernel=linear ...............................\n",
            "[CV] ... C=100, gamma=0.001, kernel=linear, score=0.889, total=   0.0s\n",
            "[CV] C=100, gamma=0.001, kernel=linear ...............................\n",
            "[CV] ... C=100, gamma=0.001, kernel=linear, score=1.000, total=   0.0s\n",
            "[CV] C=100, gamma=0.001, kernel=linear ...............................\n",
            "[CV] ... C=100, gamma=0.001, kernel=linear, score=1.000, total=   0.0s\n",
            "[CV] C=100, gamma=0.001, kernel=rbf ..................................\n",
            "[CV] ...... C=100, gamma=0.001, kernel=rbf, score=0.778, total=   0.0s\n",
            "[CV] C=100, gamma=0.001, kernel=rbf ..................................\n",
            "[CV] ...... C=100, gamma=0.001, kernel=rbf, score=1.000, total=   0.0s\n",
            "[CV] C=100, gamma=0.001, kernel=rbf ..................................\n",
            "[CV] ...... C=100, gamma=0.001, kernel=rbf, score=0.889, total=   0.0s\n",
            "[CV] C=100, gamma=0.001, kernel=rbf ..................................\n",
            "[CV] ...... C=100, gamma=0.001, kernel=rbf, score=0.889, total=   0.0s\n",
            "[CV] C=100, gamma=0.001, kernel=rbf ..................................\n",
            "[CV] ...... C=100, gamma=0.001, kernel=rbf, score=1.000, total=   0.0s\n"
          ]
        },
        {
          "output_type": "stream",
          "name": "stderr",
          "text": [
            "[Parallel(n_jobs=1)]: Done 160 out of 160 | elapsed:    0.7s finished\n"
          ]
        }
      ]
    },
    {
      "cell_type": "code",
      "metadata": {
        "colab": {
          "base_uri": "https://localhost:8080/"
        },
        "id": "pAw50L5V8bTJ",
        "outputId": "85624bc2-7879-43b1-ff3c-bd6fce327c30"
      },
      "source": [
        "print(grid.best_params_) "
      ],
      "execution_count": 23,
      "outputs": [
        {
          "output_type": "stream",
          "name": "stdout",
          "text": [
            "{'C': 10, 'gamma': 1, 'kernel': 'rbf'}\n"
          ]
        }
      ]
    },
    {
      "cell_type": "code",
      "metadata": {
        "colab": {
          "base_uri": "https://localhost:8080/"
        },
        "id": "FM0NqoMW8hCt",
        "outputId": "bd602c3d-18e5-4642-c18a-75b94166eaeb"
      },
      "source": [
        "grid_prediction = grid.predict(test_X)#Hyperparameter prediction\n",
        "print(\"accuracy for grid-> \", metrics.accuracy_score(grid_prediction,test_y))"
      ],
      "execution_count": 24,
      "outputs": [
        {
          "output_type": "stream",
          "name": "stdout",
          "text": [
            "accuracy for grid->  1.0\n"
          ]
        }
      ]
    },
    {
      "cell_type": "code",
      "metadata": {
        "colab": {
          "base_uri": "https://localhost:8080/"
        },
        "id": "NiEfNZMBgYV1",
        "outputId": "01737dee-983d-471f-a04b-932d6b724422"
      },
      "source": [
        "#KNN\n",
        "\n",
        "k_range = list(range(1,31))\n",
        "knnmodel = KNeighborsClassifier(n_neighbors = 9)\n",
        "knnmodel.fit(train_X,train_y)\n",
        "prediction = knnmodel.predict(test_X)\n",
        "print(\"accuracy for k = 9 is -> \", metrics.accuracy_score(prediction, test_y))\n"
      ],
      "execution_count": 25,
      "outputs": [
        {
          "output_type": "stream",
          "name": "stdout",
          "text": [
            "accuracy for k = 9 is ->  0.9777777777777777\n"
          ]
        }
      ]
    },
    {
      "cell_type": "code",
      "metadata": {
        "colab": {
          "base_uri": "https://localhost:8080/",
          "height": 279
        },
        "id": "JAJQeBdXnPAC",
        "outputId": "d13fd2a7-44f3-435f-f8b6-72814066eabe"
      },
      "source": [
        "k_scores = []\n",
        "for k in k_range:\n",
        "  knnmodel = KNeighborsClassifier(n_neighbors=k)\n",
        "  knnmodel.fit(train_X,train_y)\n",
        "  prediction = knnmodel.predict(test_X)\n",
        "  k_scores.append(pd.Series(metrics.accuracy_score(prediction, test_y)))\n",
        "\n",
        "plt.plot(k_range, k_scores)\n",
        "plt.xlabel(\"Value of k in KNN\")\n",
        "plt.ylabel(\"Accuracy of prediction\")\n",
        "plt.show()"
      ],
      "execution_count": 26,
      "outputs": [
        {
          "output_type": "display_data",
          "data": {
            "image/png": "[encoded data removed]",
            "text/plain": [
              "<Figure size 432x288 with 1 Axes>"
            ]
          },
          "metadata": {
            "needs_background": "light"
          }
        }
      ]
    },
    {
      "cell_type": "code",
      "metadata": {
        "colab": {
          "base_uri": "https://localhost:8080/"
        },
        "id": "8JNN8qCLpczs",
        "outputId": "3c5aab1f-f3ca-466c-95db-876a8f5637eb"
      },
      "source": [
        "options = ['uniform', 'distance']\n",
        "param_dist = dict(n_neighbors = k_range, weights = options)\n",
        "rand = RandomizedSearchCV(KNeighborsClassifier(), param_dist, cv= 4, scoring = \"accuracy\", n_iter = 10, random_state= 5)\n",
        "rand.fit(train_X,train_y)\n",
        "print(\"Best Score is -> \", rand.best_score_)\n",
        "print(\"Best value of k is ->\", rand.best_params_)"
      ],
      "execution_count": 27,
      "outputs": [
        {
          "output_type": "stream",
          "name": "stdout",
          "text": [
            "Best Score is ->  0.9615384615384617\n",
            "Best value of k is -> {'weights': 'distance', 'n_neighbors': 10}\n"
          ]
        }
      ]
    }
  ]
}