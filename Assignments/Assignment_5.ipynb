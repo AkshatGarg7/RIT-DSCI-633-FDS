{
  "nbformat": 4,
  "nbformat_minor": 0,
  "metadata": {
    "colab": {
      "name": "Assignment_5.ipynb",
      "provenance": [],
      "collapsed_sections": []
    },
    "kernelspec": {
      "display_name": "Python 3",
      "name": "python3"
    },
    "language_info": {
      "name": "python"
    },
    "accelerator": "TPU"
  },
  "cells": [
    {
      "cell_type": "code",
      "metadata": {
        "id": "Wmt_GsgEkYrt"
      },
      "source": [
        "#Importing libraries\n",
        "import pandas as pd\n",
        "import numpy as np\n",
        "from numpy import mean,std\n",
        "import tensorflow as tf\n",
        "from math import exp\n",
        "from sklearn.model_selection import KFold\n",
        "import os"
      ],
      "execution_count": 1,
      "outputs": []
    },
    {
      "cell_type": "code",
      "metadata": {
        "id": "KBZle3yBahpO"
      },
      "source": [
        "#importing required nn libraries\n",
        "from tensorflow.keras.datasets import mnist\n",
        "from tensorflow.keras.models import Sequential\n",
        "from tensorflow.keras.layers import Dense, Activation, Dropout\n",
        "from tensorflow.keras.optimizers import SGD,Adam,RMSprop\n",
        "from tensorflow.keras.utils import to_categorical, plot_model\n",
        "from tensorflow.keras import backend as K\n",
        "from tensorflow.keras.callbacks import LearningRateScheduler\n",
        "from tensorflow.keras.callbacks import EarlyStopping\n",
        "from tensorflow.keras.callbacks import ModelCheckpoint"
      ],
      "execution_count": 2,
      "outputs": []
    },
    {
      "cell_type": "code",
      "metadata": {
        "id": "jY-uwl1KQVV5"
      },
      "source": [
        "#importing matplotlib\n",
        "import matplotlib.pyplot as plt\n",
        "%matplotlib inline"
      ],
      "execution_count": 3,
      "outputs": []
    },
    {
      "cell_type": "code",
      "metadata": {
        "id": "8bT_JceTZFFG"
      },
      "source": [
        "#loading data\n",
        "data = mnist.load_data()"
      ],
      "execution_count": 4,
      "outputs": []
    },
    {
      "cell_type": "code",
      "metadata": {
        "colab": {
          "base_uri": "https://localhost:8080/"
        },
        "id": "f5Rob9F0jT8o",
        "outputId": "4d9a1f38-2c40-4e17-8110-5ba9040915eb"
      },
      "source": [
        "type(data) #type of data"
      ],
      "execution_count": 5,
      "outputs": [
        {
          "output_type": "execute_result",
          "data": {
            "text/plain": [
              "tuple"
            ]
          },
          "metadata": {},
          "execution_count": 5
        }
      ]
    },
    {
      "cell_type": "code",
      "metadata": {
        "colab": {
          "base_uri": "https://localhost:8080/"
        },
        "id": "YxHFy9R9i00r",
        "outputId": "b2cee221-0685-4c49-f8a4-729e780179bc"
      },
      "source": [
        "(trainX,trainY),(testX,testY) = data #distributing data in train and test \n",
        "type(trainX) #type of image in trainX"
      ],
      "execution_count": 6,
      "outputs": [
        {
          "output_type": "execute_result",
          "data": {
            "text/plain": [
              "numpy.ndarray"
            ]
          },
          "metadata": {},
          "execution_count": 6
        }
      ]
    },
    {
      "cell_type": "code",
      "metadata": {
        "colab": {
          "base_uri": "https://localhost:8080/"
        },
        "id": "Jhlqi7gQkj1Y",
        "outputId": "a910938d-6179-4c8e-9a37-ad835955d7d8"
      },
      "source": [
        "#returing the unique count of each number from 0-9 in data\n",
        "utrain,ctrain = np.unique(trainY,return_counts=True)\n",
        "rtrain = list(zip(utrain,ctrain))\n",
        "print(\"Train Labels: \", rtrain)\n",
        "\n",
        "utest,ctest = np.unique(testY,return_counts=True)\n",
        "rtest = list(zip(utest,ctest))\n",
        "print(\"Train Labels: \", rtest)"
      ],
      "execution_count": 7,
      "outputs": [
        {
          "output_type": "stream",
          "name": "stdout",
          "text": [
            "Train Labels:  [(0, 5923), (1, 6742), (2, 5958), (3, 6131), (4, 5842), (5, 5421), (6, 5918), (7, 6265), (8, 5851), (9, 5949)]\n",
            "Train Labels:  [(0, 980), (1, 1135), (2, 1032), (3, 1010), (4, 982), (5, 892), (6, 958), (7, 1028), (8, 974), (9, 1009)]\n"
          ]
        }
      ]
    },
    {
      "cell_type": "code",
      "metadata": {
        "colab": {
          "base_uri": "https://localhost:8080/"
        },
        "id": "vrZZJozFZReH",
        "outputId": "c14c865e-bb1e-48df-e5c3-62406c549329"
      },
      "source": [
        "#shape of data \n",
        "print('Train dataset -> trainX:', trainX.shape, ' and trainY: ', trainY.shape)\n",
        "print('Test dataset -> testX:', testX.shape, ' and testY: ', testY.shape)"
      ],
      "execution_count": 8,
      "outputs": [
        {
          "output_type": "stream",
          "name": "stdout",
          "text": [
            "Train dataset -> trainX: (60000, 28, 28)  and trainY:  (60000,)\n",
            "Test dataset -> testX: (10000, 28, 28)  and testY:  (10000,)\n"
          ]
        }
      ]
    },
    {
      "cell_type": "code",
      "metadata": {
        "colab": {
          "base_uri": "https://localhost:8080/",
          "height": 282
        },
        "id": "yWsVlONfZ7yj",
        "outputId": "a448ebf7-30e9-4e6e-b4d5-a2cc2367b218"
      },
      "source": [
        "#ploting single image from train data set \n",
        "print(trainX[1].shape)\n",
        "plt.imshow(trainX[9],cmap='gray')\n",
        "plt.show()"
      ],
      "execution_count": 9,
      "outputs": [
        {
          "output_type": "stream",
          "name": "stdout",
          "text": [
            "(28, 28)\n"
          ]
        },
        {
          "output_type": "display_data",
          "data": {
            "image/png": "[encoded data removed]",
            "text/plain": [
              "<Figure size 432x288 with 1 Axes>"
            ]
          },
          "metadata": {
            "needs_background": "light"
          }
        }
      ]
    },
    {
      "cell_type": "code",
      "metadata": {
        "colab": {
          "base_uri": "https://localhost:8080/",
          "height": 303
        },
        "id": "r4TEt1JUdSdJ",
        "outputId": "aef6cb8d-1525-4611-f5ff-06926c54cf9d"
      },
      "source": [
        "#plotting first 25 images of train data set\n",
        "plt.figure(figsize = (5,5))\n",
        "for i in range(25):\n",
        "  plt.subplot(5,5,i+1)\n",
        "  plt.imshow(trainX[i],cmap = 'gray')\n",
        "  plt.axis('off')\n",
        "plt.show()"
      ],
      "execution_count": 10,
      "outputs": [
        {
          "output_type": "display_data",
          "data": {
            "image/png": "[encoded data removed]",
            "text/plain": [
              "<Figure size 360x360 with 25 Axes>"
            ]
          },
          "metadata": {
            "needs_background": "light"
          }
        }
      ]
    },
    {
      "cell_type": "code",
      "metadata": {
        "id": "y803RB9wEshK"
      },
      "source": [
        "#load train and test dataset\n",
        "def load_dataset():\n",
        "  #load dataset\n",
        "  (trainX,trainY),(testX,testY) = mnist.load_data()\n",
        "  #one hot encode target values\n",
        "  trainY = to_categorical(trainY)\n",
        "  testY = to_categorical(testY)\n",
        "  return trainX,trainY,testX,testY"
      ],
      "execution_count": 11,
      "outputs": []
    },
    {
      "cell_type": "code",
      "metadata": {
        "colab": {
          "base_uri": "https://localhost:8080/"
        },
        "id": "FnYaWQ6ThWz_",
        "outputId": "ca60d75d-bb38-418f-f0fc-4b385e7d2c10"
      },
      "source": [
        "num_labels = len(np.unique(trainY))\n",
        "print(num_labels)\n",
        "trainY = to_categorical(trainY)\n",
        "testY = to_categorical(testY)"
      ],
      "execution_count": 12,
      "outputs": [
        {
          "output_type": "stream",
          "name": "stdout",
          "text": [
            "10\n"
          ]
        }
      ]
    },
    {
      "cell_type": "code",
      "metadata": {
        "id": "eNxsthPMsBkj"
      },
      "source": [
        "#Now we know each image size is 28*28 pixel\n",
        "#print(trainX.shape[1]) #(28,28)\n",
        "input_size = trainX.shape[1] * trainX.shape[1]\n",
        "trainX = np.reshape(trainX, [-1, 784])\n",
        "trainX = trainX.astype('float32')/255\n",
        "testX = np.reshape(testX, [-1, 784])\n",
        "testX = testX.astype('float32')/255\n"
      ],
      "execution_count": 13,
      "outputs": []
    },
    {
      "cell_type": "code",
      "metadata": {
        "id": "abiILnXEhGyY"
      },
      "source": [
        "#scale pixels\n",
        "def prep_pixels(train, test):\n",
        "  \n",
        "  train_norm = np.reshape(train, [-1, 784])\n",
        "  test_norm = np.reshape(test, [-1, 784])\n",
        "  #convert from integers to floats and normalize to range 0-1\n",
        "  train_norm = train_norm.astype('float32')/255.0\n",
        "  test_norm = test_norm.astype('float32')/255.0\n",
        "  #return normalized images\n",
        "  return train_norm,test_norm"
      ],
      "execution_count": 14,
      "outputs": []
    },
    {
      "cell_type": "code",
      "metadata": {
        "id": "S6eTTYOdHuaK"
      },
      "source": [
        "batch_size = 128\n",
        "hidden_units = 256\n",
        "dropout = 0.45\n",
        "epoch = 30"
      ],
      "execution_count": 15,
      "outputs": []
    },
    {
      "cell_type": "code",
      "metadata": {
        "id": "_8g3ljZiIcII"
      },
      "source": [
        "#decalring a expotenial decay \n",
        "def exp_decay(epoch):\n",
        "  initial_lrate = 0.1\n",
        "  k = 0.1\n",
        "  lrate = initial_lrate * exp(-k*epoch)\n",
        "  return lrate"
      ],
      "execution_count": 16,
      "outputs": []
    },
    {
      "cell_type": "code",
      "metadata": {
        "id": "MrJlQ4cElG2e"
      },
      "source": [
        "#define cnn model\n",
        "def define_model():\n",
        "  #we are building 3 layer cnn model\n",
        "  model = Sequential()\n",
        "  model.add(Dense(hidden_units, input_dim = input_size))\n",
        "  model.add(Activation('sigmoid'))\n",
        "  model.add(Dropout(dropout))\n",
        "  model.add(Dense(hidden_units))\n",
        "  model.add(Activation('relu'))\n",
        "  model.add(Dropout(dropout))\n",
        "  model.add(Dense(num_labels))\n",
        "  model.add(Activation('softmax'))\n",
        "  #compile model\n",
        "  opt = tf.keras.optimizers.Adam(learning_rate = exp_decay(epoch))\n",
        "  model.compile(loss = 'categorical_crossentropy', optimizer=opt, metrics=['accuracy'])\n",
        "  return model"
      ],
      "execution_count": 17,
      "outputs": []
    },
    {
      "cell_type": "code",
      "metadata": {
        "id": "rfKOsZ78prxf"
      },
      "source": [
        "#define cnn model\n",
        "def define_model_SGD():\n",
        "  #we are building 3 layer cnn model\n",
        "  model = Sequential()\n",
        "  model.add(Dense(hidden_units, input_dim = input_size))\n",
        "  model.add(Activation('relu'))\n",
        "  model.add(Dropout(dropout))\n",
        "  model.add(Dense(hidden_units))\n",
        "  model.add(Activation('relu'))\n",
        "  model.add(Dropout(dropout))\n",
        "  model.add(Dense(num_labels))\n",
        "  model.add(Activation('softmax'))\n",
        "  #compile model\n",
        "  opt = tf.keras.optimizers.SGD(learning_rate = exp_decay(epoch))\n",
        "  model.compile(loss = 'categorical_crossentropy', optimizer=opt, metrics=['accuracy'])\n",
        "  return model"
      ],
      "execution_count": 32,
      "outputs": []
    },
    {
      "cell_type": "code",
      "metadata": {
        "id": "RhFBBYM8Qkf7"
      },
      "source": [
        "model_a = define_model()"
      ],
      "execution_count": 18,
      "outputs": []
    },
    {
      "cell_type": "code",
      "metadata": {
        "colab": {
          "base_uri": "https://localhost:8080/"
        },
        "id": "u9L3xK9DQcFq",
        "outputId": "5208989a-6986-4544-b118-60b3f40727f1"
      },
      "source": [
        "model_a.summary()\n",
        "\n",
        "# From input to dense layer = 784*256 + 256 = 200960\n",
        "# from first dense to second dense = 26*256 + 256 = 65792\n",
        "# from second dense to thirs dense = 10 * 256 + 10 = 2570\n",
        "# total -> 200960 + 65792 + 2570 = 269322\n"
      ],
      "execution_count": 19,
      "outputs": [
        {
          "output_type": "stream",
          "name": "stdout",
          "text": [
            "Model: \"sequential\"\n",
            "_________________________________________________________________\n",
            "Layer (type)                 Output Shape              Param #   \n",
            "=================================================================\n",
            "dense (Dense)                (None, 256)               200960    \n",
            "_________________________________________________________________\n",
            "activation (Activation)      (None, 256)               0         \n",
            "_________________________________________________________________\n",
            "dropout (Dropout)            (None, 256)               0         \n",
            "_________________________________________________________________\n",
            "dense_1 (Dense)              (None, 256)               65792     \n",
            "_________________________________________________________________\n",
            "activation_1 (Activation)    (None, 256)               0         \n",
            "_________________________________________________________________\n",
            "dropout_1 (Dropout)          (None, 256)               0         \n",
            "_________________________________________________________________\n",
            "dense_2 (Dense)              (None, 10)                2570      \n",
            "_________________________________________________________________\n",
            "activation_2 (Activation)    (None, 10)                0         \n",
            "=================================================================\n",
            "Total params: 269,322\n",
            "Trainable params: 269,322\n",
            "Non-trainable params: 0\n",
            "_________________________________________________________________\n"
          ]
        }
      ]
    },
    {
      "cell_type": "code",
      "metadata": {
        "colab": {
          "base_uri": "https://localhost:8080/",
          "height": 976
        },
        "id": "QN9A3ppRQw-B",
        "outputId": "0baa14f4-ee54-44ff-db8b-7cb6667d44a9"
      },
      "source": [
        "plot_model(model_a,show_shapes=True,show_layer_names=True)"
      ],
      "execution_count": 20,
      "outputs": [
        {
          "output_type": "execute_result",
          "data": {
            "image/png": "[encoded data removed]",
            "text/plain": [
              "<IPython.core.display.Image object>"
            ]
          },
          "metadata": {},
          "execution_count": 20
        }
      ]
    },
    {
      "cell_type": "code",
      "metadata": {
        "id": "I33HEknlj6JG"
      },
      "source": [
        "#lr_rate = LearningRateScheduler(exp_decay(epoch))"
      ],
      "execution_count": 21,
      "outputs": []
    },
    {
      "cell_type": "code",
      "metadata": {
        "id": "fgauJbMUQ3oA"
      },
      "source": [
        "#initial test block \n",
        "# initial_lr = 0.1\n",
        "# lr_new = exp_decay(5)\n",
        "# #lr = tf.keras.optimizers.schedules.ExponentialDecay(initial_lr, decay_steps = 10000, decay_rate = 0.95, staircase = True)\n",
        "# opt = tf.keras.optimizers.Adam(learning_rate = lr_new)\n",
        "# model_a.compile(loss = 'categorical_crossentropy', optimizer=opt, metrics=['accuracy'])"
      ],
      "execution_count": 22,
      "outputs": []
    },
    {
      "cell_type": "code",
      "metadata": {
        "id": "i2cs8Jc4m9-M"
      },
      "source": [
        "#history = model_a.fit(trainX,trainY,epochs=30, batch_size=batch_size)"
      ],
      "execution_count": 23,
      "outputs": []
    },
    {
      "cell_type": "code",
      "metadata": {
        "id": "L0lhT3L1qW84"
      },
      "source": [
        "# score = model_a.evaluate(testX, testY, batch_size = batch_size)\n",
        "# print(\"\\nTest accuracy: %.1f%%\" % (100.0 * score[1]))"
      ],
      "execution_count": 24,
      "outputs": []
    },
    {
      "cell_type": "code",
      "metadata": {
        "id": "foap2BJ_P4JS"
      },
      "source": [
        "#early stoppping function\n",
        "def custom_early():\n",
        "  custom_early = EarlyStopping(monitor='val_loss',min_delta=0.001,patience=8,verbose=1,mode='auto',baseline=None,restore_best_weights=False,)\n",
        "  return custom_early"
      ],
      "execution_count": 25,
      "outputs": []
    },
    {
      "cell_type": "code",
      "metadata": {
        "id": "0s8OiCbbcf7f"
      },
      "source": [
        "#evaluate a model using kfold crossvalidation\n",
        "def evaluate_model(dataX,dataY,n_folds = 5):\n",
        "  scores,histories = list(),list()\n",
        "  #prepare cross validation\n",
        "  kfold = KFold(n_folds, shuffle = True, random_state = 1)\n",
        "  #enumerate split\n",
        "  for train_ix, test_ix in kfold.split(dataX):\n",
        "    #define model\n",
        "    model = define_model()\n",
        "    #data split and select rows for train and test \n",
        "    trainX,trainY,testX,testY = dataX[train_ix], dataY[train_ix], dataX[test_ix], dataY[test_ix]\n",
        "    #fir model\n",
        "    history = model.fit(trainX,trainY,epochs=epoch, batch_size=batch_size, verbose = 1, validation_data = (testX,testY))\n",
        "    #evaluate model\n",
        "    _, acc = model.evaluate(testX,testY)\n",
        "    print(\"\\nTest accuracy: %.1f%%\" % (100.0 * acc))\n",
        "    print(\"\\n\")\n",
        "    #stores scores\n",
        "    scores.append(acc)\n",
        "    histories.append(history)\n",
        "  return scores,histories"
      ],
      "execution_count": 35,
      "outputs": []
    },
    {
      "cell_type": "code",
      "metadata": {
        "id": "KJWM0f0BrCaO"
      },
      "source": [
        "def evaluate_model_SGD(dataX,dataY,n_folds = 5):\n",
        "  scores,histories = list(),list()\n",
        "  #prepare cross validation\n",
        "  kfold = KFold(n_folds, shuffle = True, random_state = 1)\n",
        "  #enumerate split\n",
        "  for train_ix, test_ix in kfold.split(dataX):\n",
        "    #define model\n",
        "    model = define_model_SGD()\n",
        "    #data split and select rows for train and test \n",
        "    trainX,trainY,testX,testY = dataX[train_ix], dataY[train_ix], dataX[test_ix], dataY[test_ix]\n",
        "    #fir model\n",
        "    history = model.fit(trainX,trainY,epochs=epoch, batch_size=batch_size, verbose = 1, validation_data = (testX,testY))\n",
        "    #evaluate model\n",
        "    _, acc = model.evaluate(testX,testY)\n",
        "    print(\"\\nTest accuracy: %.1f%%\" % (100.0 * acc))\n",
        "    print(\"\\n\")\n",
        "    #stores scores\n",
        "    scores.append(acc)\n",
        "    histories.append(history)\n",
        "  return scores,histories"
      ],
      "execution_count": 36,
      "outputs": []
    },
    {
      "cell_type": "code",
      "metadata": {
        "id": "SOExyObZIjmO"
      },
      "source": [
        "#plot digonistic learning curve\n",
        "def summarize_diagnostics(histories):\n",
        "  for i in range(len(histories)):\n",
        "    #plot loss\n",
        "    plt.subplot(2,1,1)\n",
        "    plt.title('Cross Entropy Loss')\n",
        "    plt.plot(histories[i].history['loss'],'r',label = 'train')\n",
        "    plt.plot(histories[i].history['val_loss'],'b',label = 'test')\n",
        "    #plot accuracy\n",
        "    plt.subplot(2,1,2)\n",
        "    plt.title('Classification accuracy')\n",
        "    plt.plot(histories[i].history['accuracy'],'r',label = 'train')\n",
        "    plt.plot(histories[i].history['val_accuracy'],'b',label = 'test')\n",
        "  \n",
        "  #plt.legend([red,blue],['train','test'])\n",
        "  plt.show()"
      ],
      "execution_count": 27,
      "outputs": []
    },
    {
      "cell_type": "code",
      "metadata": {
        "id": "n9C1kzW9pSPA"
      },
      "source": [
        "#summarize model performance\n",
        "def summarize_performance(scores):\n",
        "  print('Accuracy: mean=%.3f std=%.3f n=%.3f' % (mean(scores)*100, std(scores)*100, len(scores)))\n",
        "  plt.boxplot(scores)\n",
        "  plt.show()"
      ],
      "execution_count": 28,
      "outputs": []
    },
    {
      "cell_type": "code",
      "metadata": {
        "colab": {
          "base_uri": "https://localhost:8080/"
        },
        "id": "Xd5s1IwwpOyE",
        "outputId": "0106e79e-db8d-4b37-ca34-7305a6f1eec9"
      },
      "source": [
        "#Test output\n",
        "trainX,trainY,testX,testY = load_dataset()\n",
        "trainX,testX = prep_pixels(trainX,testX)\n",
        "scores,histories = evaluate_model(trainX,trainY)\n",
        "#evaluate_model_early(trainX,trainY,testX,testY)"
      ],
      "execution_count": 29,
      "outputs": [
        {
          "output_type": "stream",
          "name": "stdout",
          "text": [
            "Epoch 1/30\n",
            "375/375 [==============================] - 4s 10ms/step - loss: 0.4666 - accuracy: 0.8546 - val_loss: 0.1886 - val_accuracy: 0.9407\n",
            "Epoch 2/30\n",
            "375/375 [==============================] - 3s 9ms/step - loss: 0.2171 - accuracy: 0.9364 - val_loss: 0.1257 - val_accuracy: 0.9611\n",
            "Epoch 3/30\n",
            "375/375 [==============================] - 3s 9ms/step - loss: 0.1713 - accuracy: 0.9495 - val_loss: 0.1084 - val_accuracy: 0.9663\n",
            "Epoch 4/30\n",
            "375/375 [==============================] - 3s 9ms/step - loss: 0.1504 - accuracy: 0.9541 - val_loss: 0.1062 - val_accuracy: 0.9672\n",
            "Epoch 5/30\n",
            "375/375 [==============================] - 3s 9ms/step - loss: 0.1341 - accuracy: 0.9594 - val_loss: 0.0976 - val_accuracy: 0.9717\n",
            "Epoch 6/30\n",
            "375/375 [==============================] - 3s 9ms/step - loss: 0.1295 - accuracy: 0.9611 - val_loss: 0.0931 - val_accuracy: 0.9720\n",
            "Epoch 7/30\n",
            "375/375 [==============================] - 4s 10ms/step - loss: 0.1187 - accuracy: 0.9647 - val_loss: 0.0890 - val_accuracy: 0.9721\n",
            "Epoch 8/30\n",
            "375/375 [==============================] - 4s 10ms/step - loss: 0.1159 - accuracy: 0.9645 - val_loss: 0.0928 - val_accuracy: 0.9737\n",
            "Epoch 9/30\n",
            "375/375 [==============================] - 3s 9ms/step - loss: 0.1034 - accuracy: 0.9683 - val_loss: 0.0872 - val_accuracy: 0.9741\n",
            "Epoch 10/30\n",
            "375/375 [==============================] - 3s 9ms/step - loss: 0.1019 - accuracy: 0.9693 - val_loss: 0.0890 - val_accuracy: 0.9744\n",
            "Epoch 11/30\n",
            "375/375 [==============================] - 3s 9ms/step - loss: 0.0981 - accuracy: 0.9713 - val_loss: 0.0861 - val_accuracy: 0.9753\n",
            "Epoch 12/30\n",
            "375/375 [==============================] - 3s 9ms/step - loss: 0.0924 - accuracy: 0.9727 - val_loss: 0.0894 - val_accuracy: 0.9750\n",
            "Epoch 13/30\n",
            "375/375 [==============================] - 3s 9ms/step - loss: 0.0945 - accuracy: 0.9715 - val_loss: 0.0839 - val_accuracy: 0.9769\n",
            "Epoch 14/30\n",
            "375/375 [==============================] - 3s 9ms/step - loss: 0.0961 - accuracy: 0.9715 - val_loss: 0.0862 - val_accuracy: 0.9754\n",
            "Epoch 15/30\n",
            "375/375 [==============================] - 3s 9ms/step - loss: 0.0869 - accuracy: 0.9732 - val_loss: 0.0937 - val_accuracy: 0.9746\n",
            "Epoch 16/30\n",
            "375/375 [==============================] - 3s 9ms/step - loss: 0.0890 - accuracy: 0.9734 - val_loss: 0.0856 - val_accuracy: 0.9765\n",
            "Epoch 17/30\n",
            "375/375 [==============================] - 3s 9ms/step - loss: 0.0850 - accuracy: 0.9737 - val_loss: 0.0851 - val_accuracy: 0.9756\n",
            "Epoch 18/30\n",
            "375/375 [==============================] - 3s 9ms/step - loss: 0.0813 - accuracy: 0.9758 - val_loss: 0.0849 - val_accuracy: 0.9765\n",
            "Epoch 19/30\n",
            "375/375 [==============================] - 3s 9ms/step - loss: 0.0814 - accuracy: 0.9751 - val_loss: 0.0848 - val_accuracy: 0.9778\n",
            "Epoch 20/30\n",
            "375/375 [==============================] - 3s 9ms/step - loss: 0.0837 - accuracy: 0.9753 - val_loss: 0.0864 - val_accuracy: 0.9768\n",
            "Epoch 21/30\n",
            "375/375 [==============================] - 3s 9ms/step - loss: 0.0803 - accuracy: 0.9764 - val_loss: 0.0815 - val_accuracy: 0.9782\n",
            "Epoch 22/30\n",
            "375/375 [==============================] - 3s 9ms/step - loss: 0.0790 - accuracy: 0.9764 - val_loss: 0.0868 - val_accuracy: 0.9761\n",
            "Epoch 23/30\n",
            "375/375 [==============================] - 3s 9ms/step - loss: 0.0750 - accuracy: 0.9783 - val_loss: 0.0863 - val_accuracy: 0.9755\n",
            "Epoch 24/30\n",
            "375/375 [==============================] - 3s 9ms/step - loss: 0.0822 - accuracy: 0.9758 - val_loss: 0.0904 - val_accuracy: 0.9765\n",
            "Epoch 25/30\n",
            "375/375 [==============================] - 4s 10ms/step - loss: 0.0770 - accuracy: 0.9770 - val_loss: 0.0947 - val_accuracy: 0.9756\n",
            "Epoch 26/30\n",
            "375/375 [==============================] - 3s 9ms/step - loss: 0.0720 - accuracy: 0.9790 - val_loss: 0.0846 - val_accuracy: 0.9762\n",
            "Epoch 27/30\n",
            "375/375 [==============================] - 3s 9ms/step - loss: 0.0740 - accuracy: 0.9785 - val_loss: 0.0876 - val_accuracy: 0.9772\n",
            "Epoch 28/30\n",
            "375/375 [==============================] - 3s 9ms/step - loss: 0.0707 - accuracy: 0.9794 - val_loss: 0.0883 - val_accuracy: 0.9770\n",
            "Epoch 29/30\n",
            "375/375 [==============================] - 3s 9ms/step - loss: 0.0738 - accuracy: 0.9783 - val_loss: 0.0863 - val_accuracy: 0.9783\n",
            "Epoch 30/30\n",
            "375/375 [==============================] - 3s 9ms/step - loss: 0.0677 - accuracy: 0.9797 - val_loss: 0.0967 - val_accuracy: 0.9767\n",
            "375/375 [==============================] - 1s 3ms/step - loss: 0.0967 - accuracy: 0.9767\n",
            "\n",
            "Test accuracy: 97.7%\n",
            "\n",
            "\n",
            "Epoch 1/30\n",
            "375/375 [==============================] - 4s 9ms/step - loss: 0.4752 - accuracy: 0.8535 - val_loss: 0.1849 - val_accuracy: 0.9454\n",
            "Epoch 2/30\n",
            "375/375 [==============================] - 3s 9ms/step - loss: 0.2214 - accuracy: 0.9357 - val_loss: 0.1400 - val_accuracy: 0.9567\n",
            "Epoch 3/30\n",
            "375/375 [==============================] - 3s 9ms/step - loss: 0.1758 - accuracy: 0.9473 - val_loss: 0.1218 - val_accuracy: 0.9620\n",
            "Epoch 4/30\n",
            "375/375 [==============================] - 3s 9ms/step - loss: 0.1504 - accuracy: 0.9551 - val_loss: 0.1160 - val_accuracy: 0.9642\n",
            "Epoch 5/30\n",
            "375/375 [==============================] - 3s 9ms/step - loss: 0.1389 - accuracy: 0.9595 - val_loss: 0.1040 - val_accuracy: 0.9687\n",
            "Epoch 6/30\n",
            "375/375 [==============================] - 3s 9ms/step - loss: 0.1272 - accuracy: 0.9615 - val_loss: 0.0999 - val_accuracy: 0.9707\n",
            "Epoch 7/30\n",
            "375/375 [==============================] - 3s 9ms/step - loss: 0.1151 - accuracy: 0.9659 - val_loss: 0.0908 - val_accuracy: 0.9723\n",
            "Epoch 8/30\n",
            "375/375 [==============================] - 3s 9ms/step - loss: 0.1116 - accuracy: 0.9660 - val_loss: 0.0970 - val_accuracy: 0.9724\n",
            "Epoch 9/30\n",
            "375/375 [==============================] - 3s 9ms/step - loss: 0.1119 - accuracy: 0.9663 - val_loss: 0.0828 - val_accuracy: 0.9747\n",
            "Epoch 10/30\n",
            "375/375 [==============================] - 3s 9ms/step - loss: 0.1036 - accuracy: 0.9674 - val_loss: 0.0832 - val_accuracy: 0.9748\n",
            "Epoch 11/30\n",
            "375/375 [==============================] - 3s 9ms/step - loss: 0.1016 - accuracy: 0.9695 - val_loss: 0.0890 - val_accuracy: 0.9732\n",
            "Epoch 12/30\n",
            "375/375 [==============================] - 3s 9ms/step - loss: 0.0964 - accuracy: 0.9715 - val_loss: 0.0850 - val_accuracy: 0.9743\n",
            "Epoch 13/30\n",
            "375/375 [==============================] - 3s 9ms/step - loss: 0.0933 - accuracy: 0.9723 - val_loss: 0.0908 - val_accuracy: 0.9731\n",
            "Epoch 14/30\n",
            "375/375 [==============================] - 3s 9ms/step - loss: 0.0908 - accuracy: 0.9730 - val_loss: 0.0847 - val_accuracy: 0.9751\n",
            "Epoch 15/30\n",
            "375/375 [==============================] - 3s 9ms/step - loss: 0.0921 - accuracy: 0.9730 - val_loss: 0.0779 - val_accuracy: 0.9769\n",
            "Epoch 16/30\n",
            "375/375 [==============================] - 3s 9ms/step - loss: 0.0873 - accuracy: 0.9731 - val_loss: 0.0822 - val_accuracy: 0.9764\n",
            "Epoch 17/30\n",
            "375/375 [==============================] - 3s 9ms/step - loss: 0.0853 - accuracy: 0.9745 - val_loss: 0.0855 - val_accuracy: 0.9753\n",
            "Epoch 18/30\n",
            "375/375 [==============================] - 4s 10ms/step - loss: 0.0851 - accuracy: 0.9755 - val_loss: 0.0838 - val_accuracy: 0.9759\n",
            "Epoch 19/30\n",
            "375/375 [==============================] - 3s 9ms/step - loss: 0.0865 - accuracy: 0.9744 - val_loss: 0.0803 - val_accuracy: 0.9753\n",
            "Epoch 20/30\n",
            "375/375 [==============================] - 3s 9ms/step - loss: 0.0770 - accuracy: 0.9762 - val_loss: 0.0867 - val_accuracy: 0.9749\n",
            "Epoch 21/30\n",
            "375/375 [==============================] - 3s 9ms/step - loss: 0.0815 - accuracy: 0.9750 - val_loss: 0.0792 - val_accuracy: 0.9776\n",
            "Epoch 22/30\n",
            "375/375 [==============================] - 3s 9ms/step - loss: 0.0798 - accuracy: 0.9759 - val_loss: 0.0785 - val_accuracy: 0.9781\n",
            "Epoch 23/30\n",
            "375/375 [==============================] - 3s 9ms/step - loss: 0.0813 - accuracy: 0.9758 - val_loss: 0.0794 - val_accuracy: 0.9769\n",
            "Epoch 24/30\n",
            "375/375 [==============================] - 3s 9ms/step - loss: 0.0769 - accuracy: 0.9771 - val_loss: 0.0782 - val_accuracy: 0.9773\n",
            "Epoch 25/30\n",
            "375/375 [==============================] - 4s 9ms/step - loss: 0.0739 - accuracy: 0.9780 - val_loss: 0.0819 - val_accuracy: 0.9769\n",
            "Epoch 26/30\n",
            "375/375 [==============================] - 4s 9ms/step - loss: 0.0747 - accuracy: 0.9776 - val_loss: 0.0860 - val_accuracy: 0.9759\n",
            "Epoch 27/30\n",
            "375/375 [==============================] - 4s 9ms/step - loss: 0.0715 - accuracy: 0.9792 - val_loss: 0.0776 - val_accuracy: 0.9786\n",
            "Epoch 28/30\n",
            "375/375 [==============================] - 4s 9ms/step - loss: 0.0732 - accuracy: 0.9780 - val_loss: 0.0847 - val_accuracy: 0.9770\n",
            "Epoch 29/30\n",
            "375/375 [==============================] - 4s 9ms/step - loss: 0.0739 - accuracy: 0.9781 - val_loss: 0.0759 - val_accuracy: 0.9794\n",
            "Epoch 30/30\n",
            "375/375 [==============================] - 4s 9ms/step - loss: 0.0707 - accuracy: 0.9791 - val_loss: 0.0808 - val_accuracy: 0.9780\n",
            "375/375 [==============================] - 1s 3ms/step - loss: 0.0808 - accuracy: 0.9780\n",
            "\n",
            "Test accuracy: 97.8%\n",
            "\n",
            "\n",
            "Epoch 1/30\n",
            "375/375 [==============================] - 4s 10ms/step - loss: 0.4566 - accuracy: 0.8571 - val_loss: 0.1780 - val_accuracy: 0.9463\n",
            "Epoch 2/30\n",
            "375/375 [==============================] - 4s 9ms/step - loss: 0.2132 - accuracy: 0.9365 - val_loss: 0.1411 - val_accuracy: 0.9584\n",
            "Epoch 3/30\n",
            "375/375 [==============================] - 3s 9ms/step - loss: 0.1763 - accuracy: 0.9476 - val_loss: 0.1186 - val_accuracy: 0.9639\n",
            "Epoch 4/30\n",
            "375/375 [==============================] - 3s 9ms/step - loss: 0.1531 - accuracy: 0.9544 - val_loss: 0.1108 - val_accuracy: 0.9688\n",
            "Epoch 5/30\n",
            "375/375 [==============================] - 3s 9ms/step - loss: 0.1351 - accuracy: 0.9596 - val_loss: 0.0981 - val_accuracy: 0.9728\n",
            "Epoch 6/30\n",
            "375/375 [==============================] - 3s 9ms/step - loss: 0.1263 - accuracy: 0.9631 - val_loss: 0.0997 - val_accuracy: 0.9717\n",
            "Epoch 7/30\n",
            "375/375 [==============================] - 4s 10ms/step - loss: 0.1192 - accuracy: 0.9633 - val_loss: 0.0969 - val_accuracy: 0.9719\n",
            "Epoch 8/30\n",
            "375/375 [==============================] - 3s 9ms/step - loss: 0.1128 - accuracy: 0.9662 - val_loss: 0.0877 - val_accuracy: 0.9759\n",
            "Epoch 9/30\n",
            "375/375 [==============================] - 4s 9ms/step - loss: 0.1061 - accuracy: 0.9669 - val_loss: 0.0941 - val_accuracy: 0.9743\n",
            "Epoch 10/30\n",
            "375/375 [==============================] - 3s 9ms/step - loss: 0.1056 - accuracy: 0.9678 - val_loss: 0.0929 - val_accuracy: 0.9746\n",
            "Epoch 11/30\n",
            "375/375 [==============================] - 4s 10ms/step - loss: 0.1031 - accuracy: 0.9689 - val_loss: 0.0881 - val_accuracy: 0.9764\n",
            "Epoch 12/30\n",
            "375/375 [==============================] - 4s 10ms/step - loss: 0.0979 - accuracy: 0.9694 - val_loss: 0.1001 - val_accuracy: 0.9740\n",
            "Epoch 13/30\n",
            "375/375 [==============================] - 3s 9ms/step - loss: 0.0975 - accuracy: 0.9710 - val_loss: 0.0877 - val_accuracy: 0.9758\n",
            "Epoch 14/30\n",
            "375/375 [==============================] - 3s 9ms/step - loss: 0.0892 - accuracy: 0.9727 - val_loss: 0.0917 - val_accuracy: 0.9759\n",
            "Epoch 15/30\n",
            "375/375 [==============================] - 3s 9ms/step - loss: 0.0879 - accuracy: 0.9720 - val_loss: 0.0959 - val_accuracy: 0.9768\n",
            "Epoch 16/30\n",
            "375/375 [==============================] - 3s 9ms/step - loss: 0.0895 - accuracy: 0.9729 - val_loss: 0.0891 - val_accuracy: 0.9767\n",
            "Epoch 17/30\n",
            "375/375 [==============================] - 4s 9ms/step - loss: 0.0898 - accuracy: 0.9727 - val_loss: 0.0913 - val_accuracy: 0.9764\n",
            "Epoch 18/30\n",
            "375/375 [==============================] - 4s 9ms/step - loss: 0.0826 - accuracy: 0.9747 - val_loss: 0.0939 - val_accuracy: 0.9750\n",
            "Epoch 19/30\n",
            "375/375 [==============================] - 3s 9ms/step - loss: 0.0851 - accuracy: 0.9751 - val_loss: 0.0914 - val_accuracy: 0.9782\n",
            "Epoch 20/30\n",
            "375/375 [==============================] - 3s 9ms/step - loss: 0.0805 - accuracy: 0.9753 - val_loss: 0.0874 - val_accuracy: 0.9775\n",
            "Epoch 21/30\n",
            "375/375 [==============================] - 3s 9ms/step - loss: 0.0838 - accuracy: 0.9745 - val_loss: 0.0865 - val_accuracy: 0.9774\n",
            "Epoch 22/30\n",
            "375/375 [==============================] - 3s 9ms/step - loss: 0.0779 - accuracy: 0.9766 - val_loss: 0.0900 - val_accuracy: 0.9769\n",
            "Epoch 23/30\n",
            "375/375 [==============================] - 3s 9ms/step - loss: 0.0785 - accuracy: 0.9776 - val_loss: 0.0945 - val_accuracy: 0.9753\n",
            "Epoch 24/30\n",
            "375/375 [==============================] - 4s 9ms/step - loss: 0.0754 - accuracy: 0.9777 - val_loss: 0.0893 - val_accuracy: 0.9779\n",
            "Epoch 25/30\n",
            "375/375 [==============================] - 3s 9ms/step - loss: 0.0751 - accuracy: 0.9771 - val_loss: 0.0911 - val_accuracy: 0.9768\n",
            "Epoch 26/30\n",
            "375/375 [==============================] - 4s 9ms/step - loss: 0.0748 - accuracy: 0.9782 - val_loss: 0.0876 - val_accuracy: 0.9785\n",
            "Epoch 27/30\n",
            "375/375 [==============================] - 4s 10ms/step - loss: 0.0734 - accuracy: 0.9785 - val_loss: 0.0856 - val_accuracy: 0.9791\n",
            "Epoch 28/30\n",
            "375/375 [==============================] - 3s 9ms/step - loss: 0.0754 - accuracy: 0.9778 - val_loss: 0.0954 - val_accuracy: 0.9767\n",
            "Epoch 29/30\n",
            "375/375 [==============================] - 3s 9ms/step - loss: 0.0740 - accuracy: 0.9784 - val_loss: 0.0899 - val_accuracy: 0.9783\n",
            "Epoch 30/30\n",
            "375/375 [==============================] - 4s 9ms/step - loss: 0.0695 - accuracy: 0.9801 - val_loss: 0.0983 - val_accuracy: 0.9786\n",
            "375/375 [==============================] - 1s 3ms/step - loss: 0.0983 - accuracy: 0.9786\n",
            "\n",
            "Test accuracy: 97.9%\n",
            "\n",
            "\n",
            "Epoch 1/30\n",
            "375/375 [==============================] - 4s 10ms/step - loss: 0.4589 - accuracy: 0.8559 - val_loss: 0.1767 - val_accuracy: 0.9465\n",
            "Epoch 2/30\n",
            "375/375 [==============================] - 3s 9ms/step - loss: 0.2171 - accuracy: 0.9351 - val_loss: 0.1297 - val_accuracy: 0.9603\n",
            "Epoch 3/30\n",
            "375/375 [==============================] - 4s 10ms/step - loss: 0.1779 - accuracy: 0.9463 - val_loss: 0.1082 - val_accuracy: 0.9675\n",
            "Epoch 4/30\n",
            "375/375 [==============================] - 4s 10ms/step - loss: 0.1519 - accuracy: 0.9544 - val_loss: 0.0950 - val_accuracy: 0.9712\n",
            "Epoch 5/30\n",
            "375/375 [==============================] - 4s 9ms/step - loss: 0.1383 - accuracy: 0.9589 - val_loss: 0.0937 - val_accuracy: 0.9722\n",
            "Epoch 6/30\n",
            "375/375 [==============================] - 4s 10ms/step - loss: 0.1284 - accuracy: 0.9605 - val_loss: 0.0929 - val_accuracy: 0.9725\n",
            "Epoch 7/30\n",
            "375/375 [==============================] - 4s 9ms/step - loss: 0.1173 - accuracy: 0.9638 - val_loss: 0.0831 - val_accuracy: 0.9747\n",
            "Epoch 8/30\n",
            "375/375 [==============================] - 3s 9ms/step - loss: 0.1160 - accuracy: 0.9646 - val_loss: 0.0751 - val_accuracy: 0.9778\n",
            "Epoch 9/30\n",
            "375/375 [==============================] - 4s 9ms/step - loss: 0.1068 - accuracy: 0.9674 - val_loss: 0.0818 - val_accuracy: 0.9762\n",
            "Epoch 10/30\n",
            "375/375 [==============================] - 3s 9ms/step - loss: 0.1057 - accuracy: 0.9675 - val_loss: 0.0763 - val_accuracy: 0.9783\n",
            "Epoch 11/30\n",
            "375/375 [==============================] - 3s 9ms/step - loss: 0.1028 - accuracy: 0.9691 - val_loss: 0.0763 - val_accuracy: 0.9770\n",
            "Epoch 12/30\n",
            "375/375 [==============================] - 4s 10ms/step - loss: 0.0984 - accuracy: 0.9704 - val_loss: 0.0768 - val_accuracy: 0.9772\n",
            "Epoch 13/30\n",
            "375/375 [==============================] - 4s 9ms/step - loss: 0.0937 - accuracy: 0.9706 - val_loss: 0.0705 - val_accuracy: 0.9803\n",
            "Epoch 14/30\n",
            "375/375 [==============================] - 3s 9ms/step - loss: 0.0914 - accuracy: 0.9725 - val_loss: 0.0754 - val_accuracy: 0.9790\n",
            "Epoch 15/30\n",
            "375/375 [==============================] - 3s 9ms/step - loss: 0.0918 - accuracy: 0.9719 - val_loss: 0.0748 - val_accuracy: 0.9789\n",
            "Epoch 16/30\n",
            "375/375 [==============================] - 4s 9ms/step - loss: 0.0941 - accuracy: 0.9711 - val_loss: 0.0777 - val_accuracy: 0.9783\n",
            "Epoch 17/30\n",
            "375/375 [==============================] - 4s 10ms/step - loss: 0.0925 - accuracy: 0.9720 - val_loss: 0.0738 - val_accuracy: 0.9788\n",
            "Epoch 18/30\n",
            "375/375 [==============================] - 4s 10ms/step - loss: 0.0862 - accuracy: 0.9735 - val_loss: 0.0802 - val_accuracy: 0.9778\n",
            "Epoch 19/30\n",
            "375/375 [==============================] - 4s 9ms/step - loss: 0.0844 - accuracy: 0.9743 - val_loss: 0.0727 - val_accuracy: 0.9792\n",
            "Epoch 20/30\n",
            "375/375 [==============================] - 3s 9ms/step - loss: 0.0854 - accuracy: 0.9740 - val_loss: 0.0743 - val_accuracy: 0.9803\n",
            "Epoch 21/30\n",
            "375/375 [==============================] - 4s 9ms/step - loss: 0.0830 - accuracy: 0.9755 - val_loss: 0.0770 - val_accuracy: 0.9804\n",
            "Epoch 22/30\n",
            "375/375 [==============================] - 4s 9ms/step - loss: 0.0835 - accuracy: 0.9747 - val_loss: 0.0733 - val_accuracy: 0.9804\n",
            "Epoch 23/30\n",
            "375/375 [==============================] - 3s 9ms/step - loss: 0.0810 - accuracy: 0.9755 - val_loss: 0.0731 - val_accuracy: 0.9812\n",
            "Epoch 24/30\n",
            "375/375 [==============================] - 3s 9ms/step - loss: 0.0803 - accuracy: 0.9758 - val_loss: 0.0775 - val_accuracy: 0.9811\n",
            "Epoch 25/30\n",
            "375/375 [==============================] - 4s 9ms/step - loss: 0.0741 - accuracy: 0.9777 - val_loss: 0.0753 - val_accuracy: 0.9817\n",
            "Epoch 26/30\n",
            "375/375 [==============================] - 4s 10ms/step - loss: 0.0757 - accuracy: 0.9775 - val_loss: 0.0714 - val_accuracy: 0.9811\n",
            "Epoch 27/30\n",
            "375/375 [==============================] - 4s 9ms/step - loss: 0.0745 - accuracy: 0.9783 - val_loss: 0.0757 - val_accuracy: 0.9808\n",
            "Epoch 28/30\n",
            "375/375 [==============================] - 4s 9ms/step - loss: 0.0790 - accuracy: 0.9769 - val_loss: 0.0746 - val_accuracy: 0.9799\n",
            "Epoch 29/30\n",
            "375/375 [==============================] - 4s 9ms/step - loss: 0.0765 - accuracy: 0.9780 - val_loss: 0.0810 - val_accuracy: 0.9794\n",
            "Epoch 30/30\n",
            "375/375 [==============================] - 4s 9ms/step - loss: 0.0751 - accuracy: 0.9783 - val_loss: 0.0738 - val_accuracy: 0.9803\n",
            "375/375 [==============================] - 1s 3ms/step - loss: 0.0738 - accuracy: 0.9803\n",
            "\n",
            "Test accuracy: 98.0%\n",
            "\n",
            "\n",
            "Epoch 1/30\n",
            "375/375 [==============================] - 4s 10ms/step - loss: 0.4761 - accuracy: 0.8519 - val_loss: 0.1788 - val_accuracy: 0.9498\n",
            "Epoch 2/30\n",
            "375/375 [==============================] - 4s 9ms/step - loss: 0.2195 - accuracy: 0.9351 - val_loss: 0.1382 - val_accuracy: 0.9588\n",
            "Epoch 3/30\n",
            "375/375 [==============================] - 4s 9ms/step - loss: 0.1681 - accuracy: 0.9505 - val_loss: 0.1211 - val_accuracy: 0.9644\n",
            "Epoch 4/30\n",
            "375/375 [==============================] - 4s 9ms/step - loss: 0.1491 - accuracy: 0.9544 - val_loss: 0.1073 - val_accuracy: 0.9689\n",
            "Epoch 5/30\n",
            "375/375 [==============================] - 4s 10ms/step - loss: 0.1343 - accuracy: 0.9590 - val_loss: 0.0990 - val_accuracy: 0.9710\n",
            "Epoch 6/30\n",
            "375/375 [==============================] - 4s 10ms/step - loss: 0.1259 - accuracy: 0.9616 - val_loss: 0.0979 - val_accuracy: 0.9722\n",
            "Epoch 7/30\n",
            "375/375 [==============================] - 4s 10ms/step - loss: 0.1153 - accuracy: 0.9652 - val_loss: 0.0897 - val_accuracy: 0.9751\n",
            "Epoch 8/30\n",
            "375/375 [==============================] - 4s 10ms/step - loss: 0.1089 - accuracy: 0.9669 - val_loss: 0.0907 - val_accuracy: 0.9752\n",
            "Epoch 9/30\n",
            "375/375 [==============================] - 4s 10ms/step - loss: 0.1073 - accuracy: 0.9683 - val_loss: 0.0892 - val_accuracy: 0.9741\n",
            "Epoch 10/30\n",
            "375/375 [==============================] - 4s 9ms/step - loss: 0.1045 - accuracy: 0.9680 - val_loss: 0.0863 - val_accuracy: 0.9769\n",
            "Epoch 11/30\n",
            "375/375 [==============================] - 4s 10ms/step - loss: 0.0986 - accuracy: 0.9704 - val_loss: 0.0873 - val_accuracy: 0.9757\n",
            "Epoch 12/30\n",
            "375/375 [==============================] - 4s 9ms/step - loss: 0.0971 - accuracy: 0.9706 - val_loss: 0.0854 - val_accuracy: 0.9772\n",
            "Epoch 13/30\n",
            "375/375 [==============================] - 4s 11ms/step - loss: 0.0939 - accuracy: 0.9723 - val_loss: 0.0790 - val_accuracy: 0.9780\n",
            "Epoch 14/30\n",
            "375/375 [==============================] - 4s 10ms/step - loss: 0.0892 - accuracy: 0.9726 - val_loss: 0.0858 - val_accuracy: 0.9767\n",
            "Epoch 15/30\n",
            "375/375 [==============================] - 4s 11ms/step - loss: 0.0882 - accuracy: 0.9735 - val_loss: 0.0845 - val_accuracy: 0.9768\n",
            "Epoch 16/30\n",
            "375/375 [==============================] - 4s 9ms/step - loss: 0.0886 - accuracy: 0.9736 - val_loss: 0.0853 - val_accuracy: 0.9747\n",
            "Epoch 17/30\n",
            "375/375 [==============================] - 4s 10ms/step - loss: 0.0879 - accuracy: 0.9738 - val_loss: 0.0871 - val_accuracy: 0.9762\n",
            "Epoch 18/30\n",
            "375/375 [==============================] - 4s 10ms/step - loss: 0.0867 - accuracy: 0.9739 - val_loss: 0.0821 - val_accuracy: 0.9767\n",
            "Epoch 19/30\n",
            "375/375 [==============================] - 4s 10ms/step - loss: 0.0834 - accuracy: 0.9747 - val_loss: 0.0824 - val_accuracy: 0.9789\n",
            "Epoch 20/30\n",
            "375/375 [==============================] - 4s 10ms/step - loss: 0.0860 - accuracy: 0.9736 - val_loss: 0.0822 - val_accuracy: 0.9779\n",
            "Epoch 21/30\n",
            "375/375 [==============================] - 4s 10ms/step - loss: 0.0784 - accuracy: 0.9769 - val_loss: 0.0843 - val_accuracy: 0.9778\n",
            "Epoch 22/30\n",
            "375/375 [==============================] - 4s 10ms/step - loss: 0.0784 - accuracy: 0.9765 - val_loss: 0.0868 - val_accuracy: 0.9779\n",
            "Epoch 23/30\n",
            "375/375 [==============================] - 4s 10ms/step - loss: 0.0798 - accuracy: 0.9761 - val_loss: 0.0907 - val_accuracy: 0.9778\n",
            "Epoch 24/30\n",
            "375/375 [==============================] - 4s 11ms/step - loss: 0.0753 - accuracy: 0.9775 - val_loss: 0.0864 - val_accuracy: 0.9774\n",
            "Epoch 25/30\n",
            "375/375 [==============================] - 4s 9ms/step - loss: 0.0779 - accuracy: 0.9771 - val_loss: 0.0863 - val_accuracy: 0.9768\n",
            "Epoch 26/30\n",
            "375/375 [==============================] - 4s 10ms/step - loss: 0.0720 - accuracy: 0.9778 - val_loss: 0.0810 - val_accuracy: 0.9789\n",
            "Epoch 27/30\n",
            "375/375 [==============================] - 4s 10ms/step - loss: 0.0747 - accuracy: 0.9775 - val_loss: 0.0913 - val_accuracy: 0.9789\n",
            "Epoch 28/30\n",
            "375/375 [==============================] - 4s 11ms/step - loss: 0.0759 - accuracy: 0.9782 - val_loss: 0.0828 - val_accuracy: 0.9789\n",
            "Epoch 29/30\n",
            "375/375 [==============================] - 4s 10ms/step - loss: 0.0706 - accuracy: 0.9786 - val_loss: 0.0955 - val_accuracy: 0.9787\n",
            "Epoch 30/30\n",
            "375/375 [==============================] - 4s 10ms/step - loss: 0.0702 - accuracy: 0.9791 - val_loss: 0.0875 - val_accuracy: 0.9784\n",
            "375/375 [==============================] - 1s 3ms/step - loss: 0.0875 - accuracy: 0.9784\n",
            "\n",
            "Test accuracy: 97.8%\n",
            "\n",
            "\n"
          ]
        }
      ]
    },
    {
      "cell_type": "code",
      "metadata": {
        "colab": {
          "base_uri": "https://localhost:8080/",
          "height": 637
        },
        "id": "Gn0bCRICaWBV",
        "outputId": "bf46ad96-66f2-4676-8e8b-ace88f4921c8"
      },
      "source": [
        "#output graph\n",
        "summarize_diagnostics(histories)\n",
        "summarize_performance(scores)"
      ],
      "execution_count": 30,
      "outputs": [
        {
          "output_type": "stream",
          "name": "stderr",
          "text": [
            "/usr/local/lib/python3.7/dist-packages/ipykernel_launcher.py:5: MatplotlibDeprecationWarning: Adding an axes using the same arguments as a previous axes currently reuses the earlier instance.  In a future version, a new instance will always be created and returned.  Meanwhile, this warning can be suppressed, and the future behavior ensured, by passing a unique label to each axes instance.\n",
            "  \"\"\"\n",
            "/usr/local/lib/python3.7/dist-packages/ipykernel_launcher.py:10: MatplotlibDeprecationWarning: Adding an axes using the same arguments as a previous axes currently reuses the earlier instance.  In a future version, a new instance will always be created and returned.  Meanwhile, this warning can be suppressed, and the future behavior ensured, by passing a unique label to each axes instance.\n",
            "  # Remove the CWD from sys.path while we load stuff.\n"
          ]
        },
        {
          "output_type": "display_data",
          "data": {
            "image/png": "[encoded data removed]",
            "text/plain": [
              "<Figure size 432x288 with 2 Axes>"
            ]
          },
          "metadata": {
            "needs_background": "light"
          }
        },
        {
          "output_type": "stream",
          "name": "stdout",
          "text": [
            "Accuracy: mean=97.840 std=0.118 n=5.000\n"
          ]
        },
        {
          "output_type": "display_data",
          "data": {
            "image/png": "[encoded data removed]",
            "text/plain": [
              "<Figure size 432x288 with 1 Axes>"
            ]
          },
          "metadata": {
            "needs_background": "light"
          }
        }
      ]
    },
    {
      "cell_type": "code",
      "metadata": {
        "colab": {
          "base_uri": "https://localhost:8080/"
        },
        "id": "6fZJnwXPqkJu",
        "outputId": "95e6f78a-984c-4e99-cdc1-ee7b760a55ff"
      },
      "source": [
        "scores,histories = evaluate_model_SGD(trainX,trainY)"
      ],
      "execution_count": 38,
      "outputs": [
        {
          "output_type": "stream",
          "name": "stdout",
          "text": [
            "Epoch 1/30\n",
            "375/375 [==============================] - 4s 9ms/step - loss: 2.0059 - accuracy: 0.3290 - val_loss: 1.4947 - val_accuracy: 0.7284\n",
            "Epoch 2/30\n",
            "375/375 [==============================] - 3s 9ms/step - loss: 1.3647 - accuracy: 0.5964 - val_loss: 0.8864 - val_accuracy: 0.8139\n",
            "Epoch 3/30\n",
            "375/375 [==============================] - 3s 9ms/step - loss: 1.0038 - accuracy: 0.6898 - val_loss: 0.6503 - val_accuracy: 0.8456\n",
            "Epoch 4/30\n",
            "375/375 [==============================] - 3s 9ms/step - loss: 0.8329 - accuracy: 0.7397 - val_loss: 0.5450 - val_accuracy: 0.8621\n",
            "Epoch 5/30\n",
            "375/375 [==============================] - 3s 9ms/step - loss: 0.7271 - accuracy: 0.7753 - val_loss: 0.4803 - val_accuracy: 0.8737\n",
            "Epoch 6/30\n",
            "375/375 [==============================] - 4s 10ms/step - loss: 0.6647 - accuracy: 0.7935 - val_loss: 0.4396 - val_accuracy: 0.8824\n",
            "Epoch 7/30\n",
            "375/375 [==============================] - 3s 9ms/step - loss: 0.6159 - accuracy: 0.8092 - val_loss: 0.4103 - val_accuracy: 0.8881\n",
            "Epoch 8/30\n",
            "375/375 [==============================] - 3s 9ms/step - loss: 0.5783 - accuracy: 0.8241 - val_loss: 0.3871 - val_accuracy: 0.8922\n",
            "Epoch 9/30\n",
            "375/375 [==============================] - 4s 10ms/step - loss: 0.5440 - accuracy: 0.8346 - val_loss: 0.3674 - val_accuracy: 0.8967\n",
            "Epoch 10/30\n",
            "375/375 [==============================] - 3s 9ms/step - loss: 0.5199 - accuracy: 0.8431 - val_loss: 0.3522 - val_accuracy: 0.8995\n",
            "Epoch 11/30\n",
            "375/375 [==============================] - 3s 8ms/step - loss: 0.4988 - accuracy: 0.8493 - val_loss: 0.3384 - val_accuracy: 0.9032\n",
            "Epoch 12/30\n",
            "375/375 [==============================] - 3s 9ms/step - loss: 0.4833 - accuracy: 0.8541 - val_loss: 0.3269 - val_accuracy: 0.9064\n",
            "Epoch 13/30\n",
            "375/375 [==============================] - 3s 8ms/step - loss: 0.4708 - accuracy: 0.8606 - val_loss: 0.3164 - val_accuracy: 0.9091\n",
            "Epoch 14/30\n",
            "375/375 [==============================] - 3s 9ms/step - loss: 0.4498 - accuracy: 0.8659 - val_loss: 0.3077 - val_accuracy: 0.9106\n",
            "Epoch 15/30\n",
            "375/375 [==============================] - 3s 8ms/step - loss: 0.4380 - accuracy: 0.8685 - val_loss: 0.2986 - val_accuracy: 0.9138\n",
            "Epoch 16/30\n",
            "375/375 [==============================] - 3s 8ms/step - loss: 0.4275 - accuracy: 0.8729 - val_loss: 0.2911 - val_accuracy: 0.9150\n",
            "Epoch 17/30\n",
            "375/375 [==============================] - 3s 9ms/step - loss: 0.4119 - accuracy: 0.8781 - val_loss: 0.2831 - val_accuracy: 0.9174\n",
            "Epoch 18/30\n",
            "375/375 [==============================] - 3s 9ms/step - loss: 0.4070 - accuracy: 0.8795 - val_loss: 0.2770 - val_accuracy: 0.9192\n",
            "Epoch 19/30\n",
            "375/375 [==============================] - 3s 9ms/step - loss: 0.3955 - accuracy: 0.8833 - val_loss: 0.2715 - val_accuracy: 0.9208\n",
            "Epoch 20/30\n",
            "375/375 [==============================] - 3s 9ms/step - loss: 0.3827 - accuracy: 0.8871 - val_loss: 0.2658 - val_accuracy: 0.9218\n",
            "Epoch 21/30\n",
            "375/375 [==============================] - 3s 8ms/step - loss: 0.3776 - accuracy: 0.8880 - val_loss: 0.2601 - val_accuracy: 0.9237\n",
            "Epoch 22/30\n",
            "375/375 [==============================] - 3s 9ms/step - loss: 0.3691 - accuracy: 0.8911 - val_loss: 0.2553 - val_accuracy: 0.9252\n",
            "Epoch 23/30\n",
            "375/375 [==============================] - 3s 9ms/step - loss: 0.3601 - accuracy: 0.8932 - val_loss: 0.2506 - val_accuracy: 0.9264\n",
            "Epoch 24/30\n",
            "375/375 [==============================] - 3s 9ms/step - loss: 0.3585 - accuracy: 0.8941 - val_loss: 0.2461 - val_accuracy: 0.9270\n",
            "Epoch 25/30\n",
            "375/375 [==============================] - 3s 9ms/step - loss: 0.3509 - accuracy: 0.8964 - val_loss: 0.2424 - val_accuracy: 0.9288\n",
            "Epoch 26/30\n",
            "375/375 [==============================] - 3s 9ms/step - loss: 0.3461 - accuracy: 0.8963 - val_loss: 0.2382 - val_accuracy: 0.9303\n",
            "Epoch 27/30\n",
            "375/375 [==============================] - 3s 9ms/step - loss: 0.3387 - accuracy: 0.9002 - val_loss: 0.2347 - val_accuracy: 0.9306\n",
            "Epoch 28/30\n",
            "375/375 [==============================] - 3s 9ms/step - loss: 0.3375 - accuracy: 0.9011 - val_loss: 0.2309 - val_accuracy: 0.9321\n",
            "Epoch 29/30\n",
            "375/375 [==============================] - 3s 9ms/step - loss: 0.3272 - accuracy: 0.9042 - val_loss: 0.2269 - val_accuracy: 0.9334\n",
            "Epoch 30/30\n",
            "375/375 [==============================] - 3s 9ms/step - loss: 0.3256 - accuracy: 0.9040 - val_loss: 0.2240 - val_accuracy: 0.9352\n",
            "375/375 [==============================] - 1s 3ms/step - loss: 0.2240 - accuracy: 0.9352\n",
            "\n",
            "Test accuracy: 93.5%\n",
            "\n",
            "\n",
            "Epoch 1/30\n",
            "375/375 [==============================] - 4s 9ms/step - loss: 2.0636 - accuracy: 0.2980 - val_loss: 1.5629 - val_accuracy: 0.7188\n",
            "Epoch 2/30\n",
            "375/375 [==============================] - 3s 9ms/step - loss: 1.4062 - accuracy: 0.5905 - val_loss: 0.9249 - val_accuracy: 0.7981\n",
            "Epoch 3/30\n",
            "375/375 [==============================] - 3s 9ms/step - loss: 1.0191 - accuracy: 0.6874 - val_loss: 0.6695 - val_accuracy: 0.8367\n",
            "Epoch 4/30\n",
            "375/375 [==============================] - 3s 9ms/step - loss: 0.8327 - accuracy: 0.7413 - val_loss: 0.5569 - val_accuracy: 0.8567\n",
            "Epoch 5/30\n",
            "375/375 [==============================] - 3s 9ms/step - loss: 0.7312 - accuracy: 0.7739 - val_loss: 0.4939 - val_accuracy: 0.8669\n",
            "Epoch 6/30\n",
            "375/375 [==============================] - 3s 9ms/step - loss: 0.6563 - accuracy: 0.7966 - val_loss: 0.4528 - val_accuracy: 0.8757\n",
            "Epoch 7/30\n",
            "375/375 [==============================] - 3s 9ms/step - loss: 0.6072 - accuracy: 0.8133 - val_loss: 0.4244 - val_accuracy: 0.8816\n",
            "Epoch 8/30\n",
            "375/375 [==============================] - 3s 9ms/step - loss: 0.5723 - accuracy: 0.8238 - val_loss: 0.4002 - val_accuracy: 0.8862\n",
            "Epoch 9/30\n",
            "375/375 [==============================] - 3s 9ms/step - loss: 0.5391 - accuracy: 0.8351 - val_loss: 0.3831 - val_accuracy: 0.8890\n",
            "Epoch 10/30\n",
            "375/375 [==============================] - 3s 9ms/step - loss: 0.5186 - accuracy: 0.8452 - val_loss: 0.3688 - val_accuracy: 0.8934\n",
            "Epoch 11/30\n",
            "375/375 [==============================] - 3s 9ms/step - loss: 0.4912 - accuracy: 0.8542 - val_loss: 0.3549 - val_accuracy: 0.8963\n",
            "Epoch 12/30\n",
            "375/375 [==============================] - 4s 10ms/step - loss: 0.4710 - accuracy: 0.8579 - val_loss: 0.3439 - val_accuracy: 0.8990\n",
            "Epoch 13/30\n",
            "375/375 [==============================] - 3s 9ms/step - loss: 0.4601 - accuracy: 0.8636 - val_loss: 0.3348 - val_accuracy: 0.9006\n",
            "Epoch 14/30\n",
            "375/375 [==============================] - 4s 10ms/step - loss: 0.4426 - accuracy: 0.8679 - val_loss: 0.3254 - val_accuracy: 0.9032\n",
            "Epoch 15/30\n",
            "375/375 [==============================] - 3s 9ms/step - loss: 0.4309 - accuracy: 0.8705 - val_loss: 0.3173 - val_accuracy: 0.9052\n",
            "Epoch 16/30\n",
            "375/375 [==============================] - 3s 9ms/step - loss: 0.4177 - accuracy: 0.8764 - val_loss: 0.3101 - val_accuracy: 0.9073\n",
            "Epoch 17/30\n",
            "375/375 [==============================] - 3s 9ms/step - loss: 0.4113 - accuracy: 0.8785 - val_loss: 0.3042 - val_accuracy: 0.9096\n",
            "Epoch 18/30\n",
            "375/375 [==============================] - 3s 9ms/step - loss: 0.4008 - accuracy: 0.8803 - val_loss: 0.2976 - val_accuracy: 0.9121\n",
            "Epoch 19/30\n",
            "375/375 [==============================] - 3s 9ms/step - loss: 0.3909 - accuracy: 0.8842 - val_loss: 0.2911 - val_accuracy: 0.9126\n",
            "Epoch 20/30\n",
            "375/375 [==============================] - 3s 9ms/step - loss: 0.3824 - accuracy: 0.8882 - val_loss: 0.2857 - val_accuracy: 0.9143\n",
            "Epoch 21/30\n",
            "375/375 [==============================] - 3s 9ms/step - loss: 0.3755 - accuracy: 0.8890 - val_loss: 0.2803 - val_accuracy: 0.9164\n",
            "Epoch 22/30\n",
            "375/375 [==============================] - 3s 9ms/step - loss: 0.3653 - accuracy: 0.8923 - val_loss: 0.2756 - val_accuracy: 0.9183\n",
            "Epoch 23/30\n",
            "375/375 [==============================] - 3s 9ms/step - loss: 0.3558 - accuracy: 0.8946 - val_loss: 0.2706 - val_accuracy: 0.9198\n",
            "Epoch 24/30\n",
            "375/375 [==============================] - 3s 9ms/step - loss: 0.3516 - accuracy: 0.8953 - val_loss: 0.2661 - val_accuracy: 0.9216\n",
            "Epoch 25/30\n",
            "375/375 [==============================] - 3s 9ms/step - loss: 0.3448 - accuracy: 0.8978 - val_loss: 0.2614 - val_accuracy: 0.9226\n",
            "Epoch 26/30\n",
            "375/375 [==============================] - 3s 9ms/step - loss: 0.3392 - accuracy: 0.9012 - val_loss: 0.2575 - val_accuracy: 0.9233\n",
            "Epoch 27/30\n",
            "375/375 [==============================] - 3s 9ms/step - loss: 0.3367 - accuracy: 0.9005 - val_loss: 0.2535 - val_accuracy: 0.9251\n",
            "Epoch 28/30\n",
            "375/375 [==============================] - 3s 9ms/step - loss: 0.3316 - accuracy: 0.9034 - val_loss: 0.2493 - val_accuracy: 0.9259\n",
            "Epoch 29/30\n",
            "375/375 [==============================] - 3s 9ms/step - loss: 0.3240 - accuracy: 0.9047 - val_loss: 0.2456 - val_accuracy: 0.9269\n",
            "Epoch 30/30\n",
            "375/375 [==============================] - 3s 9ms/step - loss: 0.3229 - accuracy: 0.9052 - val_loss: 0.2424 - val_accuracy: 0.9281\n",
            "375/375 [==============================] - 1s 3ms/step - loss: 0.2424 - accuracy: 0.9281\n",
            "\n",
            "Test accuracy: 92.8%\n",
            "\n",
            "\n",
            "Epoch 1/30\n",
            "375/375 [==============================] - 4s 9ms/step - loss: 1.9826 - accuracy: 0.3300 - val_loss: 1.4277 - val_accuracy: 0.7279\n",
            "Epoch 2/30\n",
            "375/375 [==============================] - 3s 9ms/step - loss: 1.3363 - accuracy: 0.5932 - val_loss: 0.8681 - val_accuracy: 0.8148\n",
            "Epoch 3/30\n",
            "375/375 [==============================] - 3s 9ms/step - loss: 0.9981 - accuracy: 0.6855 - val_loss: 0.6482 - val_accuracy: 0.8492\n",
            "Epoch 4/30\n",
            "375/375 [==============================] - 3s 9ms/step - loss: 0.8349 - accuracy: 0.7360 - val_loss: 0.5444 - val_accuracy: 0.8656\n",
            "Epoch 5/30\n",
            "375/375 [==============================] - 3s 9ms/step - loss: 0.7321 - accuracy: 0.7695 - val_loss: 0.4806 - val_accuracy: 0.8758\n",
            "Epoch 6/30\n",
            "375/375 [==============================] - 3s 9ms/step - loss: 0.6650 - accuracy: 0.7922 - val_loss: 0.4412 - val_accuracy: 0.8834\n",
            "Epoch 7/30\n",
            "375/375 [==============================] - 3s 9ms/step - loss: 0.6178 - accuracy: 0.8086 - val_loss: 0.4126 - val_accuracy: 0.8886\n",
            "Epoch 8/30\n",
            "375/375 [==============================] - 3s 9ms/step - loss: 0.5838 - accuracy: 0.8226 - val_loss: 0.3894 - val_accuracy: 0.8942\n",
            "Epoch 9/30\n",
            "375/375 [==============================] - 3s 9ms/step - loss: 0.5479 - accuracy: 0.8335 - val_loss: 0.3715 - val_accuracy: 0.8978\n",
            "Epoch 10/30\n",
            "375/375 [==============================] - 3s 9ms/step - loss: 0.5222 - accuracy: 0.8414 - val_loss: 0.3558 - val_accuracy: 0.9016\n",
            "Epoch 11/30\n",
            "375/375 [==============================] - 3s 9ms/step - loss: 0.5012 - accuracy: 0.8484 - val_loss: 0.3436 - val_accuracy: 0.9035\n",
            "Epoch 12/30\n",
            "375/375 [==============================] - 3s 9ms/step - loss: 0.4837 - accuracy: 0.8539 - val_loss: 0.3322 - val_accuracy: 0.9067\n",
            "Epoch 13/30\n",
            "375/375 [==============================] - 3s 9ms/step - loss: 0.4635 - accuracy: 0.8605 - val_loss: 0.3218 - val_accuracy: 0.9088\n",
            "Epoch 14/30\n",
            "375/375 [==============================] - 3s 9ms/step - loss: 0.4471 - accuracy: 0.8647 - val_loss: 0.3134 - val_accuracy: 0.9110\n",
            "Epoch 15/30\n",
            "375/375 [==============================] - 3s 9ms/step - loss: 0.4387 - accuracy: 0.8689 - val_loss: 0.3057 - val_accuracy: 0.9125\n",
            "Epoch 16/30\n",
            "375/375 [==============================] - 3s 9ms/step - loss: 0.4243 - accuracy: 0.8720 - val_loss: 0.2977 - val_accuracy: 0.9155\n",
            "Epoch 17/30\n",
            "375/375 [==============================] - 3s 9ms/step - loss: 0.4138 - accuracy: 0.8762 - val_loss: 0.2910 - val_accuracy: 0.9160\n",
            "Epoch 18/30\n",
            "375/375 [==============================] - 3s 9ms/step - loss: 0.4015 - accuracy: 0.8817 - val_loss: 0.2852 - val_accuracy: 0.9176\n",
            "Epoch 19/30\n",
            "375/375 [==============================] - 3s 9ms/step - loss: 0.3948 - accuracy: 0.8825 - val_loss: 0.2787 - val_accuracy: 0.9207\n",
            "Epoch 20/30\n",
            "375/375 [==============================] - 3s 9ms/step - loss: 0.3857 - accuracy: 0.8858 - val_loss: 0.2732 - val_accuracy: 0.9219\n",
            "Epoch 21/30\n",
            "375/375 [==============================] - 3s 9ms/step - loss: 0.3804 - accuracy: 0.8869 - val_loss: 0.2687 - val_accuracy: 0.9232\n",
            "Epoch 22/30\n",
            "375/375 [==============================] - 3s 9ms/step - loss: 0.3703 - accuracy: 0.8902 - val_loss: 0.2638 - val_accuracy: 0.9240\n",
            "Epoch 23/30\n",
            "375/375 [==============================] - 3s 9ms/step - loss: 0.3636 - accuracy: 0.8929 - val_loss: 0.2588 - val_accuracy: 0.9257\n",
            "Epoch 24/30\n",
            "375/375 [==============================] - 3s 9ms/step - loss: 0.3560 - accuracy: 0.8949 - val_loss: 0.2542 - val_accuracy: 0.9265\n",
            "Epoch 25/30\n",
            "375/375 [==============================] - 3s 9ms/step - loss: 0.3511 - accuracy: 0.8961 - val_loss: 0.2498 - val_accuracy: 0.9286\n",
            "Epoch 26/30\n",
            "375/375 [==============================] - 3s 9ms/step - loss: 0.3418 - accuracy: 0.8990 - val_loss: 0.2451 - val_accuracy: 0.9294\n",
            "Epoch 27/30\n",
            "375/375 [==============================] - 3s 9ms/step - loss: 0.3376 - accuracy: 0.9004 - val_loss: 0.2423 - val_accuracy: 0.9302\n",
            "Epoch 28/30\n",
            "375/375 [==============================] - 3s 9ms/step - loss: 0.3318 - accuracy: 0.9028 - val_loss: 0.2386 - val_accuracy: 0.9314\n",
            "Epoch 29/30\n",
            "375/375 [==============================] - 3s 9ms/step - loss: 0.3289 - accuracy: 0.9031 - val_loss: 0.2349 - val_accuracy: 0.9312\n",
            "Epoch 30/30\n",
            "375/375 [==============================] - 3s 9ms/step - loss: 0.3199 - accuracy: 0.9045 - val_loss: 0.2313 - val_accuracy: 0.9327\n",
            "375/375 [==============================] - 1s 3ms/step - loss: 0.2313 - accuracy: 0.9327\n",
            "\n",
            "Test accuracy: 93.3%\n",
            "\n",
            "\n",
            "Epoch 1/30\n",
            "375/375 [==============================] - 4s 9ms/step - loss: 2.0261 - accuracy: 0.3081 - val_loss: 1.5059 - val_accuracy: 0.6882\n",
            "Epoch 2/30\n",
            "375/375 [==============================] - 3s 9ms/step - loss: 1.3868 - accuracy: 0.5874 - val_loss: 0.8959 - val_accuracy: 0.8001\n",
            "Epoch 3/30\n",
            "375/375 [==============================] - 3s 9ms/step - loss: 1.0124 - accuracy: 0.6886 - val_loss: 0.6497 - val_accuracy: 0.8403\n",
            "Epoch 4/30\n",
            "375/375 [==============================] - 3s 9ms/step - loss: 0.8357 - accuracy: 0.7394 - val_loss: 0.5385 - val_accuracy: 0.8597\n",
            "Epoch 5/30\n",
            "375/375 [==============================] - 4s 10ms/step - loss: 0.7316 - accuracy: 0.7748 - val_loss: 0.4762 - val_accuracy: 0.8733\n",
            "Epoch 6/30\n",
            "375/375 [==============================] - 3s 9ms/step - loss: 0.6644 - accuracy: 0.7949 - val_loss: 0.4349 - val_accuracy: 0.8820\n",
            "Epoch 7/30\n",
            "375/375 [==============================] - 3s 9ms/step - loss: 0.6122 - accuracy: 0.8110 - val_loss: 0.4050 - val_accuracy: 0.8887\n",
            "Epoch 8/30\n",
            "375/375 [==============================] - 4s 10ms/step - loss: 0.5755 - accuracy: 0.8257 - val_loss: 0.3815 - val_accuracy: 0.8929\n",
            "Epoch 9/30\n",
            "375/375 [==============================] - 3s 9ms/step - loss: 0.5432 - accuracy: 0.8328 - val_loss: 0.3626 - val_accuracy: 0.8982\n",
            "Epoch 10/30\n",
            "375/375 [==============================] - 3s 9ms/step - loss: 0.5187 - accuracy: 0.8420 - val_loss: 0.3475 - val_accuracy: 0.9015\n",
            "Epoch 11/30\n",
            "375/375 [==============================] - 3s 9ms/step - loss: 0.4969 - accuracy: 0.8504 - val_loss: 0.3350 - val_accuracy: 0.9043\n",
            "Epoch 12/30\n",
            "375/375 [==============================] - 3s 9ms/step - loss: 0.4766 - accuracy: 0.8560 - val_loss: 0.3231 - val_accuracy: 0.9075\n",
            "Epoch 13/30\n",
            "375/375 [==============================] - 3s 9ms/step - loss: 0.4652 - accuracy: 0.8602 - val_loss: 0.3123 - val_accuracy: 0.9101\n",
            "Epoch 14/30\n",
            "375/375 [==============================] - 3s 9ms/step - loss: 0.4495 - accuracy: 0.8647 - val_loss: 0.3042 - val_accuracy: 0.9109\n",
            "Epoch 15/30\n",
            "375/375 [==============================] - 3s 9ms/step - loss: 0.4337 - accuracy: 0.8711 - val_loss: 0.2956 - val_accuracy: 0.9132\n",
            "Epoch 16/30\n",
            "375/375 [==============================] - 3s 9ms/step - loss: 0.4235 - accuracy: 0.8737 - val_loss: 0.2887 - val_accuracy: 0.9149\n",
            "Epoch 17/30\n",
            "375/375 [==============================] - 3s 9ms/step - loss: 0.4138 - accuracy: 0.8775 - val_loss: 0.2815 - val_accuracy: 0.9163\n",
            "Epoch 18/30\n",
            "375/375 [==============================] - 3s 9ms/step - loss: 0.4006 - accuracy: 0.8823 - val_loss: 0.2743 - val_accuracy: 0.9178\n",
            "Epoch 19/30\n",
            "375/375 [==============================] - 3s 9ms/step - loss: 0.3965 - accuracy: 0.8830 - val_loss: 0.2697 - val_accuracy: 0.9187\n",
            "Epoch 20/30\n",
            "375/375 [==============================] - 3s 9ms/step - loss: 0.3843 - accuracy: 0.8864 - val_loss: 0.2626 - val_accuracy: 0.9213\n",
            "Epoch 21/30\n",
            "375/375 [==============================] - 3s 9ms/step - loss: 0.3761 - accuracy: 0.8884 - val_loss: 0.2575 - val_accuracy: 0.9234\n",
            "Epoch 22/30\n",
            "375/375 [==============================] - 3s 9ms/step - loss: 0.3680 - accuracy: 0.8901 - val_loss: 0.2528 - val_accuracy: 0.9242\n",
            "Epoch 23/30\n",
            "375/375 [==============================] - 3s 9ms/step - loss: 0.3635 - accuracy: 0.8921 - val_loss: 0.2481 - val_accuracy: 0.9247\n",
            "Epoch 24/30\n",
            "375/375 [==============================] - 3s 9ms/step - loss: 0.3555 - accuracy: 0.8950 - val_loss: 0.2423 - val_accuracy: 0.9262\n",
            "Epoch 25/30\n",
            "375/375 [==============================] - 3s 9ms/step - loss: 0.3506 - accuracy: 0.8970 - val_loss: 0.2394 - val_accuracy: 0.9268\n",
            "Epoch 26/30\n",
            "375/375 [==============================] - 3s 9ms/step - loss: 0.3454 - accuracy: 0.8987 - val_loss: 0.2358 - val_accuracy: 0.9273\n",
            "Epoch 27/30\n",
            "375/375 [==============================] - 3s 9ms/step - loss: 0.3359 - accuracy: 0.9021 - val_loss: 0.2311 - val_accuracy: 0.9286\n",
            "Epoch 28/30\n",
            "375/375 [==============================] - 3s 9ms/step - loss: 0.3313 - accuracy: 0.9027 - val_loss: 0.2274 - val_accuracy: 0.9294\n",
            "Epoch 29/30\n",
            "375/375 [==============================] - 3s 9ms/step - loss: 0.3280 - accuracy: 0.9039 - val_loss: 0.2240 - val_accuracy: 0.9308\n",
            "Epoch 30/30\n",
            "375/375 [==============================] - 3s 9ms/step - loss: 0.3216 - accuracy: 0.9059 - val_loss: 0.2200 - val_accuracy: 0.9316\n",
            "375/375 [==============================] - 1s 3ms/step - loss: 0.2200 - accuracy: 0.9316\n",
            "\n",
            "Test accuracy: 93.2%\n",
            "\n",
            "\n",
            "Epoch 1/30\n",
            "375/375 [==============================] - 4s 9ms/step - loss: 2.0069 - accuracy: 0.3310 - val_loss: 1.4689 - val_accuracy: 0.7348\n",
            "Epoch 2/30\n",
            "375/375 [==============================] - 4s 10ms/step - loss: 1.3599 - accuracy: 0.5918 - val_loss: 0.8772 - val_accuracy: 0.8122\n",
            "Epoch 3/30\n",
            "375/375 [==============================] - 3s 9ms/step - loss: 1.0098 - accuracy: 0.6857 - val_loss: 0.6497 - val_accuracy: 0.8434\n",
            "Epoch 4/30\n",
            "375/375 [==============================] - 4s 9ms/step - loss: 0.8355 - accuracy: 0.7387 - val_loss: 0.5415 - val_accuracy: 0.8608\n",
            "Epoch 5/30\n",
            "375/375 [==============================] - 4s 10ms/step - loss: 0.7367 - accuracy: 0.7707 - val_loss: 0.4798 - val_accuracy: 0.8745\n",
            "Epoch 6/30\n",
            "375/375 [==============================] - 3s 9ms/step - loss: 0.6666 - accuracy: 0.7926 - val_loss: 0.4382 - val_accuracy: 0.8825\n",
            "Epoch 7/30\n",
            "375/375 [==============================] - 3s 9ms/step - loss: 0.6180 - accuracy: 0.8093 - val_loss: 0.4084 - val_accuracy: 0.8899\n",
            "Epoch 8/30\n",
            "375/375 [==============================] - 3s 9ms/step - loss: 0.5791 - accuracy: 0.8229 - val_loss: 0.3846 - val_accuracy: 0.8951\n",
            "Epoch 9/30\n",
            "375/375 [==============================] - 3s 9ms/step - loss: 0.5468 - accuracy: 0.8349 - val_loss: 0.3657 - val_accuracy: 0.9007\n",
            "Epoch 10/30\n",
            "375/375 [==============================] - 3s 9ms/step - loss: 0.5230 - accuracy: 0.8416 - val_loss: 0.3503 - val_accuracy: 0.9029\n",
            "Epoch 11/30\n",
            "375/375 [==============================] - 3s 9ms/step - loss: 0.4985 - accuracy: 0.8511 - val_loss: 0.3373 - val_accuracy: 0.9057\n",
            "Epoch 12/30\n",
            "375/375 [==============================] - 3s 9ms/step - loss: 0.4829 - accuracy: 0.8560 - val_loss: 0.3260 - val_accuracy: 0.9071\n",
            "Epoch 13/30\n",
            "375/375 [==============================] - 3s 9ms/step - loss: 0.4647 - accuracy: 0.8616 - val_loss: 0.3162 - val_accuracy: 0.9098\n",
            "Epoch 14/30\n",
            "375/375 [==============================] - 3s 9ms/step - loss: 0.4514 - accuracy: 0.8656 - val_loss: 0.3068 - val_accuracy: 0.9118\n",
            "Epoch 15/30\n",
            "375/375 [==============================] - 4s 9ms/step - loss: 0.4349 - accuracy: 0.8699 - val_loss: 0.2980 - val_accuracy: 0.9133\n",
            "Epoch 16/30\n",
            "375/375 [==============================] - 3s 9ms/step - loss: 0.4219 - accuracy: 0.8742 - val_loss: 0.2911 - val_accuracy: 0.9161\n",
            "Epoch 17/30\n",
            "375/375 [==============================] - 3s 9ms/step - loss: 0.4092 - accuracy: 0.8766 - val_loss: 0.2846 - val_accuracy: 0.9172\n",
            "Epoch 18/30\n",
            "375/375 [==============================] - 3s 9ms/step - loss: 0.4069 - accuracy: 0.8790 - val_loss: 0.2786 - val_accuracy: 0.9194\n",
            "Epoch 19/30\n",
            "375/375 [==============================] - 3s 9ms/step - loss: 0.3930 - accuracy: 0.8833 - val_loss: 0.2724 - val_accuracy: 0.9209\n",
            "Epoch 20/30\n",
            "375/375 [==============================] - 3s 9ms/step - loss: 0.3825 - accuracy: 0.8878 - val_loss: 0.2668 - val_accuracy: 0.9229\n",
            "Epoch 21/30\n",
            "375/375 [==============================] - 3s 9ms/step - loss: 0.3792 - accuracy: 0.8868 - val_loss: 0.2624 - val_accuracy: 0.9237\n",
            "Epoch 22/30\n",
            "375/375 [==============================] - 3s 9ms/step - loss: 0.3700 - accuracy: 0.8895 - val_loss: 0.2571 - val_accuracy: 0.9245\n",
            "Epoch 23/30\n",
            "375/375 [==============================] - 3s 9ms/step - loss: 0.3637 - accuracy: 0.8927 - val_loss: 0.2525 - val_accuracy: 0.9260\n",
            "Epoch 24/30\n",
            "375/375 [==============================] - 3s 9ms/step - loss: 0.3519 - accuracy: 0.8954 - val_loss: 0.2484 - val_accuracy: 0.9272\n",
            "Epoch 25/30\n",
            "375/375 [==============================] - 3s 9ms/step - loss: 0.3493 - accuracy: 0.8979 - val_loss: 0.2441 - val_accuracy: 0.9284\n",
            "Epoch 26/30\n",
            "375/375 [==============================] - 3s 9ms/step - loss: 0.3423 - accuracy: 0.8985 - val_loss: 0.2407 - val_accuracy: 0.9291\n",
            "Epoch 27/30\n",
            "375/375 [==============================] - 3s 9ms/step - loss: 0.3370 - accuracy: 0.9005 - val_loss: 0.2367 - val_accuracy: 0.9299\n",
            "Epoch 28/30\n",
            "375/375 [==============================] - 3s 9ms/step - loss: 0.3324 - accuracy: 0.9020 - val_loss: 0.2337 - val_accuracy: 0.9311\n",
            "Epoch 29/30\n",
            "375/375 [==============================] - 3s 9ms/step - loss: 0.3259 - accuracy: 0.9021 - val_loss: 0.2299 - val_accuracy: 0.9327\n",
            "Epoch 30/30\n",
            "375/375 [==============================] - 3s 9ms/step - loss: 0.3241 - accuracy: 0.9026 - val_loss: 0.2267 - val_accuracy: 0.9336\n",
            "375/375 [==============================] - 1s 3ms/step - loss: 0.2267 - accuracy: 0.9336\n",
            "\n",
            "Test accuracy: 93.4%\n",
            "\n",
            "\n"
          ]
        }
      ]
    },
    {
      "cell_type": "code",
      "metadata": {
        "colab": {
          "base_uri": "https://localhost:8080/",
          "height": 634
        },
        "id": "W0FgBik2qnIn",
        "outputId": "1ef62fea-57f7-470c-d645-220a2024d610"
      },
      "source": [
        "summarize_diagnostics(histories)\n",
        "summarize_performance(scores)"
      ],
      "execution_count": 39,
      "outputs": [
        {
          "output_type": "stream",
          "name": "stderr",
          "text": [
            "/usr/local/lib/python3.7/dist-packages/ipykernel_launcher.py:5: MatplotlibDeprecationWarning: Adding an axes using the same arguments as a previous axes currently reuses the earlier instance.  In a future version, a new instance will always be created and returned.  Meanwhile, this warning can be suppressed, and the future behavior ensured, by passing a unique label to each axes instance.\n",
            "  \"\"\"\n",
            "/usr/local/lib/python3.7/dist-packages/ipykernel_launcher.py:10: MatplotlibDeprecationWarning: Adding an axes using the same arguments as a previous axes currently reuses the earlier instance.  In a future version, a new instance will always be created and returned.  Meanwhile, this warning can be suppressed, and the future behavior ensured, by passing a unique label to each axes instance.\n",
            "  # Remove the CWD from sys.path while we load stuff.\n"
          ]
        },
        {
          "output_type": "display_data",
          "data": {
            "image/png": "[encoded data removed]",
            "text/plain": [
              "<Figure size 432x288 with 2 Axes>"
            ]
          },
          "metadata": {
            "needs_background": "light"
          }
        },
        {
          "output_type": "stream",
          "name": "stdout",
          "text": [
            "Accuracy: mean=93.222 std=0.238 n=5.000\n"
          ]
        },
        {
          "output_type": "display_data",
          "data": {
            "image/png": "[encoded data removed]",
            "text/plain": [
              "<Figure size 432x288 with 1 Axes>"
            ]
          },
          "metadata": {
            "needs_background": "light"
          }
        }
      ]
    }
  ]
}